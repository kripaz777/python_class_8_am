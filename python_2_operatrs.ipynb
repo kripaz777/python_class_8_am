{
 "cells": [
  {
   "cell_type": "code",
   "execution_count": 1,
   "id": "3346f1e1",
   "metadata": {},
   "outputs": [
    {
     "name": "stdout",
     "output_type": "stream",
     "text": [
      "13\n"
     ]
    }
   ],
   "source": [
    "#+ - * / % ** //\n",
    "a = 10\n",
    "b = 3\n",
    "c = a + b\n",
    "print(c)"
   ]
  },
  {
   "cell_type": "code",
   "execution_count": 4,
   "id": "aea1d1e5",
   "metadata": {},
   "outputs": [
    {
     "name": "stdout",
     "output_type": "stream",
     "text": [
      "13\n",
      "7\n",
      "30\n",
      "3.3333333333333335\n",
      "1000\n",
      "3\n",
      "1\n"
     ]
    }
   ],
   "source": [
    "a = 10\n",
    "b = 3\n",
    "\n",
    "print(a+b)\n",
    "print(a-b)\n",
    "print(a*b)\n",
    "print(a/b)\n",
    "print(a**b)\n",
    "print(a//b)\n",
    "print(a%b)"
   ]
  },
  {
   "cell_type": "code",
   "execution_count": 5,
   "id": "ea6e4346",
   "metadata": {},
   "outputs": [
    {
     "name": "stdout",
     "output_type": "stream",
     "text": [
      "30\n"
     ]
    }
   ],
   "source": [
    "l = 10 #pre defined\n",
    "b = 3\n",
    "a = l*b\n",
    "print(a)"
   ]
  },
  {
   "cell_type": "code",
   "execution_count": 7,
   "id": "c1b3b133",
   "metadata": {},
   "outputs": [
    {
     "name": "stdout",
     "output_type": "stream",
     "text": [
      "Hello World\n",
      "Hello World\n"
     ]
    }
   ],
   "source": [
    "a = input()\n",
    "print(a)"
   ]
  },
  {
   "cell_type": "code",
   "execution_count": 14,
   "id": "322ab390",
   "metadata": {},
   "outputs": [
    {
     "name": "stdout",
     "output_type": "stream",
     "text": [
      "Enter value a = 10\n",
      "Enter value b = 2\n",
      "<class 'int'>\n",
      "<class 'int'>\n",
      "12\n"
     ]
    }
   ],
   "source": [
    "a = int(input(\"Enter value a = \"))\n",
    "b = int(input(\"Enter value b = \"))\n",
    "\n",
    "print(type(a))\n",
    "print(type(b))\n",
    "c = a+b\n",
    "print(c)"
   ]
  },
  {
   "cell_type": "code",
   "execution_count": 13,
   "id": "93cafd8a",
   "metadata": {},
   "outputs": [
    {
     "name": "stdout",
     "output_type": "stream",
     "text": [
      "Enter value l = 10\n",
      "Enter value b = 2\n",
      "20\n"
     ]
    }
   ],
   "source": [
    "l = int(input(\"Enter value l = \"))\n",
    "b = int(input(\"Enter value b = \"))\n",
    "area = l*b\n",
    "print(area)"
   ]
  },
  {
   "cell_type": "code",
   "execution_count": 15,
   "id": "1945d505",
   "metadata": {},
   "outputs": [
    {
     "name": "stdout",
     "output_type": "stream",
     "text": [
      "Enter p = 10000\n",
      "Enter t = 10\n",
      "Enter r = 10.5\n",
      "10500.0\n"
     ]
    }
   ],
   "source": [
    "p = int(input(\"Enter p = \"))\n",
    "t = float(input(\"Enter t = \"))\n",
    "r = float(input(\"Enter r = \"))\n",
    "i = p*t*r/100\n",
    "print(i)"
   ]
  },
  {
   "cell_type": "code",
   "execution_count": null,
   "id": "c067f6de",
   "metadata": {},
   "outputs": [],
   "source": [
    "# WAP to take subject marks from user and find total and per"
   ]
  },
  {
   "cell_type": "code",
   "execution_count": null,
   "id": "8f59bdc4-bf98-4e77-8226-7804bb1f4645",
   "metadata": {},
   "outputs": [],
   "source": [
    "# nested if else statement"
   ]
  },
  {
   "cell_type": "code",
   "execution_count": null,
   "id": "c83a2340-d25f-4ed2-bda9-b7fecbc3cfa7",
   "metadata": {},
   "outputs": [],
   "source": [
    "# if <condition>:\n",
    "#     if <condition>:\n",
    "#         <operation>\n",
    "#     else:\n",
    "#         <condition>\n",
    "# else:\n",
    "#     <operation>"
   ]
  },
  {
   "cell_type": "code",
   "execution_count": 4,
   "id": "79ba229a-0d4c-4e5b-aa59-62a35c8fff9d",
   "metadata": {},
   "outputs": [
    {
     "name": "stdin",
     "output_type": "stream",
     "text": [
      "Enter x =  -11\n"
     ]
    },
    {
     "name": "stdout",
     "output_type": "stream",
     "text": [
      "The value is -ve odd\n"
     ]
    }
   ],
   "source": [
    "x = int(input(\"Enter x = \"))\n",
    "if x >=0:\n",
    "    if x % 2 ==0:\n",
    "        print(\"the value is +ve and even\")\n",
    "    else:\n",
    "        print(\"the value is +ve and odd\")\n",
    "else:\n",
    "    if x%2 == 0 :\n",
    "        print(\"The value is -ve and even\")\n",
    "    else:\n",
    "        print(\"The value is -ve and odd\")"
   ]
  },
  {
   "cell_type": "code",
   "execution_count": 5,
   "id": "3ed3776c-d968-465a-b9b8-2f712dffc064",
   "metadata": {},
   "outputs": [],
   "source": [
    "# and or not"
   ]
  },
  {
   "cell_type": "code",
   "execution_count": 7,
   "id": "bccf6f0c-4d74-419e-9b79-738acfb6ad28",
   "metadata": {},
   "outputs": [
    {
     "name": "stdout",
     "output_type": "stream",
     "text": [
      "True\n",
      "True\n",
      "True\n",
      "False\n"
     ]
    }
   ],
   "source": [
    "#or\n",
    "print(True or True)\n",
    "print(True or False)\n",
    "print(False or True)\n",
    "print(False or False)"
   ]
  },
  {
   "cell_type": "code",
   "execution_count": 8,
   "id": "9af48ac1-902d-4c1d-9b88-feb6daec971b",
   "metadata": {},
   "outputs": [
    {
     "name": "stdout",
     "output_type": "stream",
     "text": [
      "True\n",
      "False\n",
      "False\n",
      "False\n"
     ]
    }
   ],
   "source": [
    "#and\n",
    "print(True and True)\n",
    "print(True and False)\n",
    "print(False and True)\n",
    "print(False and False)"
   ]
  },
  {
   "cell_type": "code",
   "execution_count": 12,
   "id": "784bf9df-7429-4349-a0bd-7c425dd69a5f",
   "metadata": {},
   "outputs": [
    {
     "name": "stdin",
     "output_type": "stream",
     "text": [
      "Enter Physics marks =  32\n",
      "Enter chemistry marks =  32\n",
      "Enter math marks =  32\n",
      "Enter english marks =  32\n",
      "Enter nepali marks =  32\n"
     ]
    },
    {
     "name": "stdout",
     "output_type": "stream",
     "text": [
      "Total marks =  160\n",
      "Per =  32.0\n",
      "Grade = D\n"
     ]
    }
   ],
   "source": [
    "physics = int(input(\"Enter Physics marks = \"))\n",
    "chemistry = int(input(\"Enter chemistry marks = \"))\n",
    "math = int(input(\"Enter math marks = \"))\n",
    "english = int(input(\"Enter english marks = \"))\n",
    "nepali = int(input(\"Enter nepali marks = \"))\n",
    "if    physics>=32 and  chemistry >=32 and math >=32 and english>=32 and nepali>=32:\n",
    "    total = physics + chemistry + math + english + nepali\n",
    "    per = total/5\n",
    "    if per >=80:\n",
    "        grade = 'A'\n",
    "    elif per >=60:\n",
    "        grade = 'B'\n",
    "    elif per >=45:\n",
    "        garde = 'C'\n",
    "    else:\n",
    "        grade = 'D'\n",
    "else:\n",
    "    grade = 'F'\n",
    "    total = \"NAN\"\n",
    "    per = \"NAN\"\n",
    "print(\"Total marks = \",total)\n",
    "print(\"Per = \",per)\n",
    "print(\"Grade =\",grade)"
   ]
  },
  {
   "cell_type": "code",
   "execution_count": 15,
   "id": "6913f00d-829c-420e-9f2d-3ef68ac600bd",
   "metadata": {},
   "outputs": [
    {
     "name": "stdin",
     "output_type": "stream",
     "text": [
      "Enter a =  10\n",
      "Enter b =  0\n",
      "Enter + or - or * or /    /\n"
     ]
    },
    {
     "name": "stdout",
     "output_type": "stream",
     "text": [
      "The value of b can not be zero!\n"
     ]
    }
   ],
   "source": [
    "a = int(input(\"Enter a = \"))\n",
    "b = int(input(\"Enter b = \"))\n",
    "o = input(\"Enter + or - or * or /   \")\n",
    "if o == \"+\":\n",
    "    print(a+b)\n",
    "elif o == \"-\":\n",
    "    print(a-b)\n",
    "elif o == \"*\":\n",
    "    print(a*b)\n",
    "elif o == \"/\" and b!=0:\n",
    "    print(a/b)\n",
    "elif o == '/' and b == 0:\n",
    "    print(\"The value of b can not be zero!\")\n",
    "else:\n",
    "    print(\"Invalid operator\")"
   ]
  },
  {
   "cell_type": "code",
   "execution_count": null,
   "id": "f2aacd37-ee89-403a-a0c9-a8a0bd45e234",
   "metadata": {},
   "outputs": [],
   "source": [
    "a = int(input(\"Enter a = \"))\n",
    "b = int(input(\"Enter b = \"))\n",
    "o = input(\"Enter + or - or * or /   \")\n",
    "if o == \"+\":\n",
    "    print(a+b)\n",
    "elif o == \"-\":\n",
    "    print(a-b)\n",
    "elif o == \"*\":\n",
    "    print(a*b)\n",
    "elif o == \"/\":\n",
    "    if b =!=0:\n",
    "        print(a/b)\n",
    "    else:\n",
    "        print(\"The value of b can not be zero!\")\n",
    "else:\n",
    "    print(\"Invalid operator\")"
   ]
  }
 ],
 "metadata": {
  "kernelspec": {
   "display_name": "Python 3 (ipykernel)",
   "language": "python",
   "name": "python3"
  },
  "language_info": {
   "codemirror_mode": {
    "name": "ipython",
    "version": 3
   },
   "file_extension": ".py",
   "mimetype": "text/x-python",
   "name": "python",
   "nbconvert_exporter": "python",
   "pygments_lexer": "ipython3",
   "version": "3.11.7"
  }
 },
 "nbformat": 4,
 "nbformat_minor": 5
}
