{
 "cells": [
  {
   "cell_type": "code",
   "execution_count": 1,
   "id": "8e8bf2fb-685d-4050-8191-4b99b5d48a24",
   "metadata": {},
   "outputs": [],
   "source": [
    "# function"
   ]
  },
  {
   "cell_type": "code",
   "execution_count": 2,
   "id": "3688ba56-0239-4bbd-b3cd-1809794d8a17",
   "metadata": {},
   "outputs": [],
   "source": [
    "#pre defined function\n",
    "# print() int() float() str() list() tuple() dict() set()"
   ]
  },
  {
   "cell_type": "code",
   "execution_count": 3,
   "id": "196d1dc4-f686-4f69-8454-7ddd6ab459a6",
   "metadata": {},
   "outputs": [],
   "source": [
    "# user defined function\n",
    "# def <function_name>():\n",
    "#     <operations>\n",
    "\n",
    "# <function_name>()"
   ]
  },
  {
   "cell_type": "code",
   "execution_count": null,
   "id": "33ee2f2c-f3eb-48ef-8a9b-304a841222c4",
   "metadata": {},
   "outputs": [],
   "source": [
    "a = 10"
   ]
  },
  {
   "cell_type": "code",
   "execution_count": 11,
   "id": "3bbaa508-e861-46d0-bf98-85d0ed8f448a",
   "metadata": {},
   "outputs": [
    {
     "name": "stdout",
     "output_type": "stream",
     "text": [
      "Hello World\n"
     ]
    }
   ],
   "source": [
    "def hello():               #function define\n",
    "    print(\"Hello World\")\n",
    "\n",
    "hello()                    #function call"
   ]
  },
  {
   "cell_type": "code",
   "execution_count": 8,
   "id": "318772a5-37cc-4345-be86-28bbd046e104",
   "metadata": {},
   "outputs": [
    {
     "name": "stdin",
     "output_type": "stream",
     "text": [
      "Enter l =  10\n",
      "Enter b =  2\n"
     ]
    },
    {
     "name": "stdout",
     "output_type": "stream",
     "text": [
      "20\n"
     ]
    }
   ],
   "source": [
    "def cal():\n",
    "    l = int(input(\"Enter l = \"))       #local variable\n",
    "    b = int(input(\"Enter b = \"))       #local variable\n",
    "    a = l*b\n",
    "    print(a)\n",
    "\n",
    "\n",
    "cal()"
   ]
  },
  {
   "cell_type": "code",
   "execution_count": 9,
   "id": "acfd5348-dd84-4f1d-89ee-2295c84edf2c",
   "metadata": {},
   "outputs": [
    {
     "name": "stdin",
     "output_type": "stream",
     "text": [
      "Enter l =  10\n",
      "Enter b =  2\n"
     ]
    },
    {
     "name": "stdout",
     "output_type": "stream",
     "text": [
      "20\n"
     ]
    }
   ],
   "source": [
    "l = int(input(\"Enter l = \"))       #global variable\n",
    "b = int(input(\"Enter b = \"))       #global variable\n",
    "\n",
    "def cal():\n",
    "    a = l*b\n",
    "    print(a)\n",
    "\n",
    "\n",
    "cal()"
   ]
  },
  {
   "cell_type": "code",
   "execution_count": null,
   "id": "d34efb5b-aa80-44b8-bec9-e035c1600a52",
   "metadata": {},
   "outputs": [],
   "source": [
    "# arguments\n",
    "# parameter\n",
    "# return type"
   ]
  },
  {
   "cell_type": "code",
   "execution_count": 12,
   "id": "b13da0df-50c6-4fae-be1b-794a66ea4dc1",
   "metadata": {},
   "outputs": [
    {
     "name": "stdin",
     "output_type": "stream",
     "text": [
      "Enter l =  10\n",
      "Enter b =  2\n"
     ]
    },
    {
     "name": "stdout",
     "output_type": "stream",
     "text": [
      "20\n"
     ]
    }
   ],
   "source": [
    "def cal(x,y):                      #x,y are parameter\n",
    "    a = x*y\n",
    "    print(a)\n",
    "\n",
    "l = int(input(\"Enter l = \"))       #global variable\n",
    "b = int(input(\"Enter b = \"))       #global variable\n",
    "cal(l,b)                           #a,b are arguments"
   ]
  },
  {
   "cell_type": "code",
   "execution_count": null,
   "id": "a479d2f4-1b8e-4a7c-b2dd-ef46b26c0778",
   "metadata": {},
   "outputs": [],
   "source": [
    "def cal(z):                      #x,y are parameter\n",
    "    x,y = z\n",
    "    a = x*y\n",
    "    print(a)\n",
    "\n",
    "l = int(input(\"Enter l = \"))       #global variable\n",
    "b = int(input(\"Enter b = \"))       #global variable\n",
    "z = [l,b]\n",
    "cal(z)                           #a,b are arguments"
   ]
  },
  {
   "cell_type": "code",
   "execution_count": 14,
   "id": "38eda697-fe82-47ea-89a0-245c33a4e8dc",
   "metadata": {},
   "outputs": [
    {
     "name": "stdout",
     "output_type": "stream",
     "text": [
      "10\n",
      "20\n"
     ]
    }
   ],
   "source": [
    "a = [10,20]\n",
    "x,y = a\n",
    "print(x)\n",
    "print(y)"
   ]
  },
  {
   "cell_type": "code",
   "execution_count": null,
   "id": "cb656032-e98b-4f1c-8a20-34dc1496bd7e",
   "metadata": {},
   "outputs": [],
   "source": [
    "def cal(a,b,o):\n",
    "    if o == \"+\":\n",
    "        print(a+b)\n",
    "    elif o == \"-\":\n",
    "        print(a-b)\n",
    "    elif o == \"*\":\n",
    "        print(a*b)\n",
    "    elif o == \"/\":\n",
    "        if b =!=0:\n",
    "            print(a/b)\n",
    "        else:\n",
    "            print(\"The value of b can not be zero!\")\n",
    "    else:\n",
    "        print(\"Invalid operator\")\n",
    "a = int(input(\"Enter a = \"))\n",
    "b = int(input(\"Enter b = \"))\n",
    "o = input(\"Enter + or - or * or /   \")\n",
    "cal(a,b,o)"
   ]
  },
  {
   "cell_type": "code",
   "execution_count": 16,
   "id": "54d8f22a-eba5-42d4-8548-005e493f1d57",
   "metadata": {},
   "outputs": [
    {
     "name": "stdout",
     "output_type": "stream",
     "text": [
      "C\n",
      "C++\n",
      "C#\n",
      "Java\n",
      "Python\n"
     ]
    }
   ],
   "source": [
    "def language(lan = \"Python\"):\n",
    "    print(lan)\n",
    "\n",
    "language(\"C\")\n",
    "language(\"C++\")\n",
    "language(\"C#\")\n",
    "language(\"Java\")\n",
    "language()"
   ]
  },
  {
   "cell_type": "code",
   "execution_count": 20,
   "id": "93c8b118-28bd-4bf5-8895-7c57ad3b32c8",
   "metadata": {},
   "outputs": [
    {
     "name": "stdout",
     "output_type": "stream",
     "text": [
      "Hello World I am Python\n"
     ]
    }
   ],
   "source": [
    "# return type function\n",
    "def hello():\n",
    "    x = \"Hello World\"\n",
    "    return x\n",
    "\n",
    "#print(hello())\n",
    "y = hello()\n",
    "print(y + \" I am Python\")"
   ]
  },
  {
   "cell_type": "code",
   "execution_count": 22,
   "id": "d6df1758-f8b4-4fcc-931e-78a6b2eb73c4",
   "metadata": {},
   "outputs": [
    {
     "name": "stdin",
     "output_type": "stream",
     "text": [
      "Enter l =  10\n",
      "Enter b =  2\n"
     ]
    },
    {
     "name": "stdout",
     "output_type": "stream",
     "text": [
      "20\n"
     ]
    }
   ],
   "source": [
    "def cal(l,b):\n",
    "    a = l*b\n",
    "    return a\n",
    "\n",
    "l = int(input(\"Enter l = \"))\n",
    "b = int(input(\"Enter b = \"))\n",
    "h = int(input(\"Enter h = \"))\n",
    "area = cal(l,b)\n",
    "volume = area * h\n",
    "print(area)"
   ]
  },
  {
   "cell_type": "code",
   "execution_count": null,
   "id": "52dfcd4b-6b32-4d5c-bf15-d7a20b127eed",
   "metadata": {},
   "outputs": [],
   "source": [
    "def result():\n",
    "    physics = int(input(\"Enter Physics marks = \"))\n",
    "    chemistry = int(input(\"Enter chemistry marks = \"))\n",
    "    math = int(input(\"Enter math marks = \"))\n",
    "    english = int(input(\"Enter english marks = \"))\n",
    "    nepali = int(input(\"Enter nepali marks = \"))\n",
    "    if    physics>=32 and  chemistry >=32 and math >=32 and english>=32 and nepali>=32:\n",
    "        total = physics + chemistry + math + english + nepali\n",
    "        per = total/5\n",
    "        if per >=80:\n",
    "            grade = 'A'\n",
    "        elif per >=60:\n",
    "            grade = 'B'\n",
    "        elif per >=45:\n",
    "            garde = 'C'\n",
    "        else:\n",
    "            grade = 'D'\n",
    "    else:\n",
    "        grade = 'F'\n",
    "        total = \"NAN\"\n",
    "        per = \"NAN\"\n",
    "    return total,per,grade\n",
    "    \n",
    "x,y,z = result()\n",
    "\n",
    "print(\"Total marks = \",x)\n",
    "print(\"Per = \",y)\n",
    "print(\"Grade =\",z)"
   ]
  },
  {
   "cell_type": "code",
   "execution_count": null,
   "id": "cce9863f-3dbd-41b6-9c01-ed3baccf89ca",
   "metadata": {},
   "outputs": [],
   "source": [
    "def add(a,b):\n",
    "    return a+b\n",
    "def sub(a,b):\n",
    "    return a-b\n",
    "def mul(a,b):\n",
    "    return a*b\n",
    "def div(a,b):\n",
    "    return a/b\n",
    "    \n",
    "def cal(a,b,o):\n",
    "    if o == \"+\":\n",
    "        print(add(a,b))\n",
    "    elif o == \"-\":\n",
    "        print(sub(a,b))\n",
    "    elif o == \"*\":\n",
    "        print(mul(a,b))\n",
    "    elif o == \"/\" and b!=0:\n",
    "        print(div(a,b))\n",
    "    elif o == '/' and b == 0:\n",
    "        print(\"The value of b can not be zero!\")\n",
    "    else:\n",
    "        print(\"Invalid operator\")\n",
    "    \n",
    "a = int(input(\"Enter a = \"))\n",
    "b = int(input(\"Enter b = \"))\n",
    "o = input(\"Enter + or - or * or /   \")\n",
    "\n",
    "cal(a,b,o)"
   ]
  },
  {
   "cell_type": "code",
   "execution_count": 1,
   "id": "79113a4e-8caa-4347-a467-12229627e8a7",
   "metadata": {},
   "outputs": [
    {
     "name": "stdout",
     "output_type": "stream",
     "text": [
      "Hello World\n",
      "Hello World\n"
     ]
    }
   ],
   "source": [
    "# recursive function\n",
    "def hello():\n",
    "    print(\"Hello World\")\n",
    "    hello()\n",
    "    \n",
    "hello()"
   ]
  },
  {
   "cell_type": "code",
   "execution_count": 2,
   "id": "0b8400e6-b32c-4c9f-88ce-7b15a922c4c8",
   "metadata": {},
   "outputs": [
    {
     "name": "stdout",
     "output_type": "stream",
     "text": [
      "Hello World\n"
     ]
    },
    {
     "name": "stdin",
     "output_type": "stream",
     "text": [
      "Enter y for more print =  y\n"
     ]
    },
    {
     "name": "stdout",
     "output_type": "stream",
     "text": [
      "Hello World\n"
     ]
    },
    {
     "name": "stdin",
     "output_type": "stream",
     "text": [
      "Enter y for more print =  y\n"
     ]
    },
    {
     "name": "stdout",
     "output_type": "stream",
     "text": [
      "Hello World\n"
     ]
    },
    {
     "name": "stdin",
     "output_type": "stream",
     "text": [
      "Enter y for more print =  ghjgg\n"
     ]
    }
   ],
   "source": [
    "# recursive function\n",
    "def hello():\n",
    "    print(\"Hello World\")\n",
    "    x = input(\"Enter y for more print = \")\n",
    "    if x == 'y':\n",
    "        hello()\n",
    "    \n",
    "hello()"
   ]
  },
  {
   "cell_type": "code",
   "execution_count": 3,
   "id": "e9a49511-ada9-4337-9542-2a2194e84e39",
   "metadata": {},
   "outputs": [],
   "source": [
    "# Math function"
   ]
  },
  {
   "cell_type": "code",
   "execution_count": 4,
   "id": "e354a539-9ea4-4e47-a2bd-ebe9b823252b",
   "metadata": {},
   "outputs": [
    {
     "name": "stdout",
     "output_type": "stream",
     "text": [
      "0.8939966636005579\n"
     ]
    }
   ],
   "source": [
    "import math as m\n",
    "print(m.sin(90))"
   ]
  },
  {
   "cell_type": "code",
   "execution_count": 5,
   "id": "5d58e94d-04c1-47a0-8dc8-0e66e3bdc3ca",
   "metadata": {},
   "outputs": [
    {
     "data": {
      "text/plain": [
       "3.141592653589793"
      ]
     },
     "execution_count": 5,
     "metadata": {},
     "output_type": "execute_result"
    }
   ],
   "source": [
    "m.pi"
   ]
  },
  {
   "cell_type": "code",
   "execution_count": 6,
   "id": "7ebb6aef-fe09-47e3-b1f7-d15b0f25b42a",
   "metadata": {},
   "outputs": [
    {
     "name": "stdout",
     "output_type": "stream",
     "text": [
      "1.0\n"
     ]
    }
   ],
   "source": [
    "print(m.sin(m.pi/2))"
   ]
  },
  {
   "cell_type": "code",
   "execution_count": 7,
   "id": "94b9a440-aaa2-4579-aabd-04090891031c",
   "metadata": {},
   "outputs": [
    {
     "name": "stdout",
     "output_type": "stream",
     "text": [
      "6.123233995736766e-17\n"
     ]
    }
   ],
   "source": [
    "print(m.cos(m.pi/2))"
   ]
  },
  {
   "cell_type": "code",
   "execution_count": 8,
   "id": "8a2432f0-4869-4b0f-97a1-f704c13649ed",
   "metadata": {},
   "outputs": [
    {
     "name": "stdout",
     "output_type": "stream",
     "text": [
      "1.633123935319537e+16\n"
     ]
    }
   ],
   "source": [
    "print(m.tan(m.pi/2))"
   ]
  },
  {
   "cell_type": "code",
   "execution_count": 10,
   "id": "d72e1aa2-c7c3-4794-b7e1-202f39130b8e",
   "metadata": {},
   "outputs": [
    {
     "name": "stdout",
     "output_type": "stream",
     "text": [
      "2.718281828459045\n"
     ]
    }
   ],
   "source": [
    "print(m.e)"
   ]
  },
  {
   "cell_type": "code",
   "execution_count": 12,
   "id": "d0a96712-dcfd-431f-9205-28e6f71f4706",
   "metadata": {},
   "outputs": [
    {
     "data": {
      "text/plain": [
       "3628800"
      ]
     },
     "execution_count": 12,
     "metadata": {},
     "output_type": "execute_result"
    }
   ],
   "source": [
    "#1*2*3*4*5\n",
    "m.factorial(10)"
   ]
  },
  {
   "cell_type": "code",
   "execution_count": 13,
   "id": "d70d1b42-661d-41d7-b675-213b4a9f3621",
   "metadata": {},
   "outputs": [],
   "source": [
    "# lambda funtion"
   ]
  },
  {
   "cell_type": "code",
   "execution_count": 14,
   "id": "0c819ec3-9ce7-484e-9dc0-c6c1bb102fba",
   "metadata": {},
   "outputs": [],
   "source": [
    "# lambda <arguments>:<operation>"
   ]
  },
  {
   "cell_type": "code",
   "execution_count": 15,
   "id": "e47ce701-1ed4-4fdf-8ef5-f28bf8e79532",
   "metadata": {},
   "outputs": [
    {
     "name": "stdout",
     "output_type": "stream",
     "text": [
      "9\n"
     ]
    }
   ],
   "source": [
    "a = lambda x:x**2\n",
    "print(a(3))"
   ]
  },
  {
   "cell_type": "code",
   "execution_count": 16,
   "id": "e3542ab7-ded4-44c4-b22a-9dd1662e8617",
   "metadata": {},
   "outputs": [
    {
     "data": {
      "text/plain": [
       "20"
      ]
     },
     "execution_count": 16,
     "metadata": {},
     "output_type": "execute_result"
    }
   ],
   "source": [
    "a = lambda x,y:x*y\n",
    "a(4,5)"
   ]
  },
  {
   "cell_type": "code",
   "execution_count": 17,
   "id": "e7af135d-9c82-4733-ab13-96a9c8c6f1e7",
   "metadata": {},
   "outputs": [],
   "source": [
    "# filter function\n",
    "# map function"
   ]
  },
  {
   "cell_type": "code",
   "execution_count": 18,
   "id": "885926c9-979c-4dde-93ff-de1eafa4db64",
   "metadata": {},
   "outputs": [],
   "source": [
    "# filter\n",
    "# filter((lambda <arguments>:<Condition>),list)"
   ]
  },
  {
   "cell_type": "code",
   "execution_count": 19,
   "id": "2dfc20a5-56f9-488a-a5d3-9840c1d6666f",
   "metadata": {},
   "outputs": [
    {
     "data": {
      "text/plain": [
       "[2, 4, 6, 8, 10]"
      ]
     },
     "execution_count": 19,
     "metadata": {},
     "output_type": "execute_result"
    }
   ],
   "source": [
    "a = [1,2,3,4,5,6,7,8,9,10]\n",
    "list(filter((lambda x:x%2==0),a))"
   ]
  },
  {
   "cell_type": "code",
   "execution_count": 21,
   "id": "721eba10-12ef-4b33-a53a-bd41cc912243",
   "metadata": {},
   "outputs": [
    {
     "data": {
      "text/plain": [
       "['bat']"
      ]
     },
     "execution_count": 21,
     "metadata": {},
     "output_type": "execute_result"
    }
   ],
   "source": [
    "a = [\"Apple\",\"Ball\",\"Cat\",\"dog\",\"Fish\",\"bat\"]\n",
    "list(filter((lambda x:x.islower()),a))"
   ]
  },
  {
   "cell_type": "code",
   "execution_count": 22,
   "id": "6d52d171-57c9-496b-98f7-7ebf5df0b7b6",
   "metadata": {},
   "outputs": [],
   "source": [
    "# map function"
   ]
  },
  {
   "cell_type": "code",
   "execution_count": 23,
   "id": "4b708944-ad1e-443c-876a-98347cd8bf4e",
   "metadata": {},
   "outputs": [],
   "source": [
    "# map((lambda <arguments>:<Operation>),list)"
   ]
  },
  {
   "cell_type": "code",
   "execution_count": 25,
   "id": "9769ba81-027b-48ee-9bae-2da998ee7136",
   "metadata": {},
   "outputs": [
    {
     "data": {
      "text/plain": [
       "['apple', 'ball', 'cat', 'dog', 'fish', 'bat']"
      ]
     },
     "execution_count": 25,
     "metadata": {},
     "output_type": "execute_result"
    }
   ],
   "source": [
    "a = [\"Apple\",\"Ball\",\"Cat\",\"Dog\",\"Fish\",\"Bat\"]\n",
    "b = list(map(lambda x:x.lower(),a))\n",
    "b"
   ]
  },
  {
   "cell_type": "code",
   "execution_count": 26,
   "id": "e9d3f938-0a69-4e07-943f-9b32b8c6b71d",
   "metadata": {},
   "outputs": [
    {
     "data": {
      "text/plain": [
       "[1, 4, 9, 16, 25, 36, 49, 64, 81]"
      ]
     },
     "execution_count": 26,
     "metadata": {},
     "output_type": "execute_result"
    }
   ],
   "source": [
    "a = [1,2,3,4,5,6,7,8,9]\n",
    "b = list(map(lambda x:x**2,a))\n",
    "b"
   ]
  },
  {
   "cell_type": "code",
   "execution_count": 27,
   "id": "32d9f142-ed33-48eb-93ba-33102b4960f8",
   "metadata": {},
   "outputs": [
    {
     "data": {
      "text/plain": [
       "[24000.0, 36000.0, 48000.0, 60000.0, 24000.0, 84000.0, 72000.0, 24000.0]"
      ]
     },
     "execution_count": 27,
     "metadata": {},
     "output_type": "execute_result"
    }
   ],
   "source": [
    "a = [20000,30000,40000,50000,20000,70000,60000,20000]\n",
    "b = list(map(lambda x:x*1.2,a))\n",
    "b"
   ]
  },
  {
   "cell_type": "code",
   "execution_count": 28,
   "id": "3d4706a3-9df2-4d34-8a34-55888f712a44",
   "metadata": {},
   "outputs": [],
   "source": [
    "# list and dict"
   ]
  },
  {
   "cell_type": "code",
   "execution_count": 29,
   "id": "11ecf9ed-3835-43c7-aa25-6333281b9721",
   "metadata": {},
   "outputs": [
    {
     "data": {
      "text/plain": [
       "[0, 1, 2, 3, 4, 5, 6, 7, 8, 9]"
      ]
     },
     "execution_count": 29,
     "metadata": {},
     "output_type": "execute_result"
    }
   ],
   "source": [
    "a = [i for i in range(10)]\n",
    "a"
   ]
  },
  {
   "cell_type": "code",
   "execution_count": 30,
   "id": "351b9d3e-56f5-46b6-bd8d-1700dcfe3663",
   "metadata": {},
   "outputs": [
    {
     "name": "stdin",
     "output_type": "stream",
     "text": [
      "Enter value =  10\n",
      "Enter value =  45\n",
      "Enter value =  65\n",
      "Enter value =  87\n",
      "Enter value =  90\n"
     ]
    },
    {
     "data": {
      "text/plain": [
       "[10, 45, 65, 87, 90]"
      ]
     },
     "execution_count": 30,
     "metadata": {},
     "output_type": "execute_result"
    }
   ],
   "source": [
    "a = [int(input(\"Enter value = \")) for i in range(5)]\n",
    "a"
   ]
  },
  {
   "cell_type": "code",
   "execution_count": 31,
   "id": "061c1dac-b852-46ba-a6c1-c4521aea307f",
   "metadata": {},
   "outputs": [
    {
     "name": "stdin",
     "output_type": "stream",
     "text": [
      "Enter value =  45\n",
      "Enter value =  67\n",
      "Enter value =  34\n",
      "Enter value =  89\n",
      "Enter value =  23\n"
     ]
    },
    {
     "data": {
      "text/plain": [
       "258"
      ]
     },
     "execution_count": 31,
     "metadata": {},
     "output_type": "execute_result"
    }
   ],
   "source": [
    "a = sum([int(input(\"Enter value = \")) for i in range(5)])\n",
    "a"
   ]
  },
  {
   "cell_type": "code",
   "execution_count": 32,
   "id": "c309c2b3-32dc-4ce9-8e84-ccda89d71824",
   "metadata": {},
   "outputs": [
    {
     "name": "stdin",
     "output_type": "stream",
     "text": [
      "Enter name ram\n",
      "Enter phone =  9808778765\n",
      "Enter name Shyam\n",
      "Enter phone =  9808556543\n",
      "Enter name Hari\n",
      "Enter phone =  9808778765\n",
      "Enter name Nabin\n",
      "Enter phone =  980556543\n",
      "Enter name Akash\n",
      "Enter phone =  980878765\n"
     ]
    },
    {
     "name": "stdout",
     "output_type": "stream",
     "text": [
      "{'ram': '9808778765', 'Shyam': '9808556543', 'Hari': '9808778765', 'Nabin': '980556543', 'Akash': '980878765'}\n"
     ]
    }
   ],
   "source": [
    "a = {input(\"Enter name\"):input(\"Enter phone = \") for i in range(5)}\n",
    "print(a)"
   ]
  },
  {
   "cell_type": "code",
   "execution_count": 33,
   "id": "b57b15ab-4a00-4e5f-94ae-9eefb505d089",
   "metadata": {},
   "outputs": [
    {
     "data": {
      "text/plain": [
       "{1: 1, 2: 4, 3: 9, 4: 16, 5: 25, 6: 36, 7: 49, 8: 64, 9: 81}"
      ]
     },
     "execution_count": 33,
     "metadata": {},
     "output_type": "execute_result"
    }
   ],
   "source": [
    "x = [1,2,3,4,5,6,7,8,9]\n",
    "a = {i:i**2 for i in x}\n",
    "a"
   ]
  },
  {
   "cell_type": "code",
   "execution_count": null,
   "id": "7b6bc797-e98f-4d18-888b-2ef268dbdfb4",
   "metadata": {},
   "outputs": [],
   "source": []
  }
 ],
 "metadata": {
  "kernelspec": {
   "display_name": "Python 3 (ipykernel)",
   "language": "python",
   "name": "python3"
  },
  "language_info": {
   "codemirror_mode": {
    "name": "ipython",
    "version": 3
   },
   "file_extension": ".py",
   "mimetype": "text/x-python",
   "name": "python",
   "nbconvert_exporter": "python",
   "pygments_lexer": "ipython3",
   "version": "3.11.7"
  }
 },
 "nbformat": 4,
 "nbformat_minor": 5
}
