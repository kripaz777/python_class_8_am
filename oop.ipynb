{
 "cells": [
  {
   "cell_type": "code",
   "execution_count": 1,
   "id": "fa4b2d15-f58c-4f9c-8c06-34f2b9190622",
   "metadata": {},
   "outputs": [],
   "source": [
    "# class <name>:\n",
    "#     <methods>\n",
    "\n",
    "\n",
    "# <name>()"
   ]
  },
  {
   "cell_type": "code",
   "execution_count": 3,
   "id": "60953d7d-7e47-44ab-9c32-c87253e1ca71",
   "metadata": {},
   "outputs": [
    {
     "name": "stdout",
     "output_type": "stream",
     "text": [
      "Hello World\n"
     ]
    }
   ],
   "source": [
    "class Hello:\n",
    "    def hello(self):\n",
    "        print(\"Hello World\")\n",
    "\n",
    "obj = Hello()\n",
    "obj.hello()"
   ]
  },
  {
   "cell_type": "code",
   "execution_count": 4,
   "id": "40ca3956-8d25-46a8-bd02-3835fb9681eb",
   "metadata": {},
   "outputs": [
    {
     "name": "stdout",
     "output_type": "stream",
     "text": [
      "Hello World\n"
     ]
    }
   ],
   "source": [
    "class Hello:\n",
    "    @staticmethod\n",
    "    def hello():\n",
    "        print(\"Hello World\")\n",
    "\n",
    "obj = Hello()\n",
    "obj.hello()"
   ]
  },
  {
   "cell_type": "code",
   "execution_count": 5,
   "id": "f1a85dfd-e3e4-47ea-84ea-4370102940b6",
   "metadata": {},
   "outputs": [
    {
     "name": "stdin",
     "output_type": "stream",
     "text": [
      "Enter l =  20\n",
      "Enter b =  10\n"
     ]
    },
    {
     "name": "stdout",
     "output_type": "stream",
     "text": [
      "200\n"
     ]
    }
   ],
   "source": [
    "class Cal:\n",
    "    def area(self):\n",
    "        l = int(input(\"Enter l = \"))\n",
    "        b = int(input(\"Enter b = \"))\n",
    "        a = l*b\n",
    "        print(a)\n",
    "        \n",
    "obj = Cal()\n",
    "obj.area()"
   ]
  },
  {
   "cell_type": "code",
   "execution_count": 10,
   "id": "bc0f3283-6683-4e2e-8dde-dd985b1733ea",
   "metadata": {},
   "outputs": [
    {
     "name": "stdin",
     "output_type": "stream",
     "text": [
      "Enter h =  10\n",
      "Enter l =  2\n",
      "Enter b =  3\n"
     ]
    },
    {
     "name": "stdout",
     "output_type": "stream",
     "text": [
      "6\n"
     ]
    }
   ],
   "source": [
    "class Cal:\n",
    "    def volume(self,h):\n",
    "        l = int(input(\"Enter l = \"))\n",
    "        b = int(input(\"Enter b = \"))\n",
    "        v = l*b*h\n",
    "        print(v)\n",
    "        \n",
    "obj = Cal()\n",
    "h = int(input(\"Enter h = \"))\n",
    "obj.volume(h)"
   ]
  },
  {
   "cell_type": "code",
   "execution_count": 14,
   "id": "b6472d3c-b2e9-458d-b643-ff1110d513e6",
   "metadata": {},
   "outputs": [
    {
     "name": "stdin",
     "output_type": "stream",
     "text": [
      "Enter l =  100\n",
      "Enter b =  23\n",
      "Enter h =  2\n"
     ]
    },
    {
     "name": "stdout",
     "output_type": "stream",
     "text": [
      "4600\n"
     ]
    }
   ],
   "source": [
    "class Cal:\n",
    "    def __init__(self):\n",
    "        self.l = int(input(\"Enter l = \"))\n",
    "        self.b = int(input(\"Enter b = \"))\n",
    "        self.h = int(input(\"Enter h = \"))\n",
    "\n",
    "\n",
    "    def volume(self):\n",
    "        v = self.l*self.b*self.h\n",
    "        print(v)\n",
    "        \n",
    "obj = Cal()\n",
    "obj.volume()"
   ]
  },
  {
   "cell_type": "code",
   "execution_count": null,
   "id": "9bc1348e-d08f-4803-9bf9-bb9ef09a8ddd",
   "metadata": {},
   "outputs": [],
   "source": [
    "class Info:\n",
    "    def __init__(self):\n",
    "        self.name = input(\"Enter name = \")\n",
    "        self.age = int(input(\"Enter age = \"))\n",
    "        self.add = input(\"Enter add = \")\n",
    "        \n",
    "    def data(self):\n",
    "        print(self.name,self.add)\n",
    "        \n",
    "    def info(self):\n",
    "        print(f\"Hello World I am {self.name}. I am {self.age}. I am from {self.add}\")\n",
    "\n",
    "\n",
    "obj = Info()\n",
    "obj.data()\n",
    "obj.info()"
   ]
  },
  {
   "cell_type": "code",
   "execution_count": 15,
   "id": "ae2fb56d-7cb3-4a88-89b5-f337ae072196",
   "metadata": {},
   "outputs": [
    {
     "name": "stdin",
     "output_type": "stream",
     "text": [
      "Enter name =  Ram\n",
      "Enter age =  34\n",
      "Enter add =  Kathmandu\n"
     ]
    },
    {
     "name": "stdout",
     "output_type": "stream",
     "text": [
      "Ram Kathmandu\n",
      "Hello World I am Ram. I am 34. I am from Kathmandu\n"
     ]
    }
   ],
   "source": [
    "class Info:\n",
    "    def __init__(self,name,age,add):\n",
    "        self.n = name\n",
    "        self.a = age\n",
    "        self.ad = add\n",
    "        \n",
    "    def data(self):\n",
    "        print(self.n,self.ad)\n",
    "        \n",
    "    def info(self):\n",
    "        print(f\"Hello World I am {self.n}. I am {self.a}. I am from {self.ad}\")\n",
    "        \n",
    "name = input(\"Enter name = \")\n",
    "age = int(input(\"Enter age = \"))\n",
    "add = input(\"Enter add = \")\n",
    "\n",
    "obj = Info(name,age,add)\n",
    "obj.data()\n",
    "obj.info()"
   ]
  },
  {
   "cell_type": "code",
   "execution_count": null,
   "id": "d377c632-1fea-432e-b4c5-d75668fb7b76",
   "metadata": {},
   "outputs": [],
   "source": []
  }
 ],
 "metadata": {
  "kernelspec": {
   "display_name": "Python 3 (ipykernel)",
   "language": "python",
   "name": "python3"
  },
  "language_info": {
   "codemirror_mode": {
    "name": "ipython",
    "version": 3
   },
   "file_extension": ".py",
   "mimetype": "text/x-python",
   "name": "python",
   "nbconvert_exporter": "python",
   "pygments_lexer": "ipython3",
   "version": "3.11.7"
  }
 },
 "nbformat": 4,
 "nbformat_minor": 5
}
