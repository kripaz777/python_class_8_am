{
 "cells": [
  {
   "cell_type": "code",
   "execution_count": 1,
   "id": "b9711ac6-f03c-42ab-8100-ff7fb80c885b",
   "metadata": {},
   "outputs": [],
   "source": [
    "# # dictionary\n",
    "# Indexing\n",
    "# Multiple and duplicate data or values\n",
    "# Ordered\n",
    "# Mutable"
   ]
  },
  {
   "cell_type": "code",
   "execution_count": 2,
   "id": "27616037-24cd-4aad-a28b-90a7ef406fe2",
   "metadata": {},
   "outputs": [
    {
     "name": "stdout",
     "output_type": "stream",
     "text": [
      "<class 'dict'>\n"
     ]
    }
   ],
   "source": [
    "d = dict()\n",
    "d = {}\n",
    "print(type(d))"
   ]
  },
  {
   "cell_type": "code",
   "execution_count": null,
   "id": "af49c071-0e09-4697-9c16-6c0d792198c3",
   "metadata": {},
   "outputs": [],
   "source": [
    "# d = {<key>:<value>}"
   ]
  },
  {
   "cell_type": "code",
   "execution_count": 5,
   "id": "d357a80e-7f0c-4c91-baae-4597b19b1956",
   "metadata": {},
   "outputs": [
    {
     "name": "stdout",
     "output_type": "stream",
     "text": [
      "Apple\n",
      "Ball\n",
      "{'a': 'Apple', 'b': 'Ball'}\n"
     ]
    }
   ],
   "source": [
    "d = {'a':'Apple','b':'Ball'}\n",
    "print(d['a'])\n",
    "print(d['b'])\n",
    "print(d)"
   ]
  },
  {
   "cell_type": "code",
   "execution_count": 6,
   "id": "1d4bf479-a40f-40a1-a061-2660bf7268b5",
   "metadata": {},
   "outputs": [
    {
     "ename": "TypeError",
     "evalue": "unsupported operand type(s) for +: 'dict' and 'dict'",
     "output_type": "error",
     "traceback": [
      "\u001b[1;31m---------------------------------------------------------------------------\u001b[0m",
      "\u001b[1;31mTypeError\u001b[0m                                 Traceback (most recent call last)",
      "Cell \u001b[1;32mIn[6], line 4\u001b[0m\n\u001b[0;32m      2\u001b[0m a \u001b[38;5;241m=\u001b[39m {\u001b[38;5;241m1\u001b[39m:\u001b[38;5;241m1\u001b[39m,\u001b[38;5;241m2\u001b[39m:\u001b[38;5;241m4\u001b[39m,\u001b[38;5;241m3\u001b[39m:\u001b[38;5;241m9\u001b[39m,\u001b[38;5;241m4\u001b[39m:\u001b[38;5;241m16\u001b[39m}\n\u001b[0;32m      3\u001b[0m b \u001b[38;5;241m=\u001b[39m {\u001b[38;5;124m'\u001b[39m\u001b[38;5;124ma\u001b[39m\u001b[38;5;124m'\u001b[39m:\u001b[38;5;124m'\u001b[39m\u001b[38;5;124mApple\u001b[39m\u001b[38;5;124m'\u001b[39m,\u001b[38;5;124m'\u001b[39m\u001b[38;5;124mb\u001b[39m\u001b[38;5;124m'\u001b[39m:\u001b[38;5;124m'\u001b[39m\u001b[38;5;124mBall\u001b[39m\u001b[38;5;124m'\u001b[39m}\n\u001b[1;32m----> 4\u001b[0m c \u001b[38;5;241m=\u001b[39m a\u001b[38;5;241m+\u001b[39mb\n\u001b[0;32m      5\u001b[0m c\n",
      "\u001b[1;31mTypeError\u001b[0m: unsupported operand type(s) for +: 'dict' and 'dict'"
     ]
    }
   ],
   "source": [
    "# + *\n",
    "a = {1:1,2:4,3:9,4:16}\n",
    "b = {'a':'Apple','b':'Ball'}\n",
    "c = a+b\n",
    "c"
   ]
  },
  {
   "cell_type": "code",
   "execution_count": 7,
   "id": "69736b94-cec7-46c3-a49e-b5a8f0203198",
   "metadata": {},
   "outputs": [
    {
     "ename": "TypeError",
     "evalue": "unsupported operand type(s) for *: 'dict' and 'int'",
     "output_type": "error",
     "traceback": [
      "\u001b[1;31m---------------------------------------------------------------------------\u001b[0m",
      "\u001b[1;31mTypeError\u001b[0m                                 Traceback (most recent call last)",
      "Cell \u001b[1;32mIn[7], line 1\u001b[0m\n\u001b[1;32m----> 1\u001b[0m a\u001b[38;5;241m*\u001b[39m\u001b[38;5;241m2\u001b[39m\n",
      "\u001b[1;31mTypeError\u001b[0m: unsupported operand type(s) for *: 'dict' and 'int'"
     ]
    }
   ],
   "source": [
    "a*2"
   ]
  },
  {
   "cell_type": "code",
   "execution_count": 8,
   "id": "2ea65931-6215-4e38-a470-87015a7ecbe3",
   "metadata": {},
   "outputs": [
    {
     "data": {
      "text/plain": [
       "{'a': 'Apple', 'b': 'Ball', 'c': 'Cat'}"
      ]
     },
     "execution_count": 8,
     "metadata": {},
     "output_type": "execute_result"
    }
   ],
   "source": [
    "a = {}\n",
    "a['a'] = 'Apple'\n",
    "a['b'] = 'Ball'\n",
    "a['c'] = 'Cat'\n",
    "a"
   ]
  },
  {
   "cell_type": "code",
   "execution_count": 10,
   "id": "f3feba92-84a3-473d-8418-c3463bc98649",
   "metadata": {},
   "outputs": [
    {
     "data": {
      "text/plain": [
       "{'a': 'Ant', 'b': 'Ball', 'c': 'Cat'}"
      ]
     },
     "execution_count": 10,
     "metadata": {},
     "output_type": "execute_result"
    }
   ],
   "source": [
    "a = {'a': 'Apple', 'b': 'Ball', 'c': 'Cat'}\n",
    "a['a'] = 'Ant'\n",
    "a"
   ]
  },
  {
   "cell_type": "code",
   "execution_count": 11,
   "id": "8600b20a-18e8-494c-8f9e-91a6b37e4251",
   "metadata": {},
   "outputs": [
    {
     "name": "stdin",
     "output_type": "stream",
     "text": [
      "Enter n =  2\n",
      "Enter name =  Ram\n",
      "Enter phone =  9808778765\n",
      "Enter name =  Shyam\n",
      "Enter phone =  9808556543\n"
     ]
    },
    {
     "name": "stdout",
     "output_type": "stream",
     "text": [
      "{'Ram': 9808778765, 'Shyam': 9808556543}\n"
     ]
    }
   ],
   "source": [
    "a = {}\n",
    "n = int(input(\"Enter n = \"))\n",
    "for i in range(n):\n",
    "    name = input(\"Enter name = \")\n",
    "    phone = int(input(\"Enter phone = \"))\n",
    "    a[name] = phone\n",
    "    \n",
    "print(a)"
   ]
  },
  {
   "cell_type": "code",
   "execution_count": 14,
   "id": "3a6c9f10-1920-495b-b22f-a64ecbea78e0",
   "metadata": {},
   "outputs": [
    {
     "data": {
      "text/plain": [
       "9808778765"
      ]
     },
     "execution_count": 14,
     "metadata": {},
     "output_type": "execute_result"
    }
   ],
   "source": [
    "a['Ram']"
   ]
  },
  {
   "cell_type": "code",
   "execution_count": 15,
   "id": "7f9df5c1-c1c1-455d-b02d-0bbcacb40498",
   "metadata": {},
   "outputs": [
    {
     "name": "stdout",
     "output_type": "stream",
     "text": [
      "Ram\n",
      "Shyam\n",
      "Hari\n"
     ]
    }
   ],
   "source": [
    "a = {'Ram': 9808778765, 'Shyam': 9808556543,'Hari':9808778765}\n",
    "for i in a:\n",
    "    print(i)"
   ]
  },
  {
   "cell_type": "code",
   "execution_count": 16,
   "id": "209006d6-289b-4fd2-80e2-fd7a0f9f106e",
   "metadata": {},
   "outputs": [
    {
     "name": "stdout",
     "output_type": "stream",
     "text": [
      "9808778765\n",
      "9808556543\n",
      "9808778765\n"
     ]
    }
   ],
   "source": [
    "a = {'Ram': 9808778765, 'Shyam': 9808556543,'Hari':9808778765}\n",
    "for i in a.values():\n",
    "    print(i)"
   ]
  },
  {
   "cell_type": "code",
   "execution_count": 17,
   "id": "f5501cd7-218b-4350-a30f-b9c7d28e0e6b",
   "metadata": {},
   "outputs": [
    {
     "name": "stdout",
     "output_type": "stream",
     "text": [
      "('Ram', 9808778765)\n",
      "('Shyam', 9808556543)\n",
      "('Hari', 9808778765)\n"
     ]
    }
   ],
   "source": [
    "a = {'Ram': 9808778765, 'Shyam': 9808556543,'Hari':9808778765}\n",
    "for i in a.items():\n",
    "    print(i)"
   ]
  },
  {
   "cell_type": "code",
   "execution_count": 21,
   "id": "20acc487-1abf-4f31-beef-1a086a891920",
   "metadata": {},
   "outputs": [
    {
     "data": {
      "text/plain": [
       "{'Ram': 9808778765,\n",
       " 'Shyam': 9808556543,\n",
       " 'Hari': 9808778765,\n",
       " 'Rama': 9867887654}"
      ]
     },
     "execution_count": 21,
     "metadata": {},
     "output_type": "execute_result"
    }
   ],
   "source": [
    "a = {'Ram': 9808778765, 'Shyam': 9808556543,'Hari':9808778765}\n",
    "a['Rama'] = 9867887654\n",
    "a"
   ]
  },
  {
   "cell_type": "code",
   "execution_count": 24,
   "id": "89e4f539-9c0f-40c3-807b-0adb05cecf9a",
   "metadata": {},
   "outputs": [
    {
     "data": {
      "text/plain": [
       "{'Ram': 9808778765,\n",
       " 'Shyam': 9808556543,\n",
       " 'Hari': 9808778765,\n",
       " 'Sita': 980856547,\n",
       " 'Nabin': 9867667654}"
      ]
     },
     "execution_count": 24,
     "metadata": {},
     "output_type": "execute_result"
    }
   ],
   "source": [
    "a = {'Ram': 9808778765, 'Shyam': 9808556543,'Hari':9808778765}\n",
    "b = {'Sita':980856547,'Nabin':9867667654}\n",
    "a.update(b)\n",
    "a"
   ]
  },
  {
   "cell_type": "code",
   "execution_count": 25,
   "id": "73de6b63-8554-4b34-acd3-30dc73605322",
   "metadata": {},
   "outputs": [],
   "source": [
    "# delete in dict \n",
    "# del pop"
   ]
  },
  {
   "cell_type": "code",
   "execution_count": 26,
   "id": "d9b6ddaa-34eb-4866-af21-db450d4b5e9d",
   "metadata": {},
   "outputs": [
    {
     "data": {
      "text/plain": [
       "{'Shyam': 9808556543, 'Hari': 9808778765}"
      ]
     },
     "execution_count": 26,
     "metadata": {},
     "output_type": "execute_result"
    }
   ],
   "source": [
    "a = {'Ram': 9808778765, 'Shyam': 9808556543,'Hari':9808778765}\n",
    "del a['Ram']\n",
    "a"
   ]
  },
  {
   "cell_type": "code",
   "execution_count": 27,
   "id": "6359f576-f250-4cc0-91d2-7adab83f6607",
   "metadata": {},
   "outputs": [
    {
     "name": "stdout",
     "output_type": "stream",
     "text": [
      "9808778765\n",
      "{'Shyam': 9808556543, 'Hari': 9808778765}\n"
     ]
    }
   ],
   "source": [
    "a = {'Ram': 9808778765, 'Shyam': 9808556543,'Hari':9808778765}\n",
    "b = a.pop('Ram')\n",
    "print(b)\n",
    "print(a)"
   ]
  },
  {
   "cell_type": "code",
   "execution_count": 28,
   "id": "6913d92c-1856-4a4b-b975-f857618049e0",
   "metadata": {},
   "outputs": [
    {
     "data": {
      "text/plain": [
       "[9808778765, 9867556543]"
      ]
     },
     "execution_count": 28,
     "metadata": {},
     "output_type": "execute_result"
    }
   ],
   "source": [
    "# list inside dict\n",
    "a = {'Ram': [9808778765,9867556543], 'Shyam': [9808556543,9808667654],'Hari':[9808778765,9808778765]}\n",
    "a['Ram']"
   ]
  },
  {
   "cell_type": "code",
   "execution_count": 29,
   "id": "859631a1-7985-4674-981e-2a5d91512431",
   "metadata": {},
   "outputs": [
    {
     "data": {
      "text/plain": [
       "{'name': ['Ram', 'Shyam', 'Hari'],\n",
       " 'age': [23, 56, 34],\n",
       " 'add': ['Kathmandu', 'Bhaktapur', 'Lalitpur']}"
      ]
     },
     "execution_count": 29,
     "metadata": {},
     "output_type": "execute_result"
    }
   ],
   "source": [
    "a = {'name':['Ram','Shyam','Hari'],\n",
    "    'age':[23,56,34],\n",
    "    'add':[\"Kathmandu\",\"Bhaktapur\",\"Lalitpur\"]}\n",
    "a"
   ]
  },
  {
   "cell_type": "code",
   "execution_count": 31,
   "id": "5be1df77-8a42-42d5-a6f2-353285d20c02",
   "metadata": {},
   "outputs": [
    {
     "name": "stdin",
     "output_type": "stream",
     "text": [
      "Enter n =  2\n",
      "Enter name =  Ram\n",
      "Enter ntc no =  9808778765\n",
      "Enter ncell no  9807897897\n",
      "Enter name =  Shyam\n",
      "Enter ntc no =  9867667654\n",
      "Enter ncell no  9808778765\n"
     ]
    },
    {
     "name": "stdout",
     "output_type": "stream",
     "text": [
      "{'Ram': [9808778765, 9807897897], 'Shyam': [9867667654, 9808778765]}\n"
     ]
    }
   ],
   "source": [
    "#a = {'Ram': [9808778765,9867556543], 'Shyam': [9808556543,9808667654],'Hari':[9808778765,9808778765]}\n",
    "a = {}\n",
    "n = int(input(\"Enter n = \"))\n",
    "for i in range(n):\n",
    "    name = input(\"Enter name = \")\n",
    "    ntc = int(input(\"Enter ntc no = \"))\n",
    "    ncell = int(input(\"Enter ncell no \"))\n",
    "    a[name] = [ntc,ncell]\n",
    "\n",
    "print(a)"
   ]
  },
  {
   "cell_type": "code",
   "execution_count": 35,
   "id": "0e33aada-1ac1-409b-bf97-605d498f9530",
   "metadata": {},
   "outputs": [
    {
     "data": {
      "text/plain": [
       "{'Ram': [9808778765, 9807897897, '9808000000'],\n",
       " 'Shyam': [9867667654, 9808778765]}"
      ]
     },
     "execution_count": 35,
     "metadata": {},
     "output_type": "execute_result"
    }
   ],
   "source": [
    "a = {'Ram': [9808778765, 9807897897], 'Shyam': [9867667654, 9808778765]}\n",
    "a['Ram'].append(\"9808000000\")\n",
    "a"
   ]
  },
  {
   "cell_type": "code",
   "execution_count": 37,
   "id": "25776ff1-83fb-4617-b206-929cb5df734c",
   "metadata": {},
   "outputs": [
    {
     "data": {
      "text/plain": [
       "{'Ram': [9808778765, 9807897897, 9808000000],\n",
       " 'Shyam': [9867667654, 9808778765]}"
      ]
     },
     "execution_count": 37,
     "metadata": {},
     "output_type": "execute_result"
    }
   ],
   "source": [
    "a = {'Ram': [9808778765, 9807897897], 'Shyam': [9867667654, 9808778765]}\n",
    "a['Ram'] = [9808778765, 9807897897,9808000000]\n",
    "a"
   ]
  },
  {
   "cell_type": "code",
   "execution_count": null,
   "id": "20aa826c-8865-4b5d-a881-f2b3dd52526c",
   "metadata": {},
   "outputs": [],
   "source": []
  },
  {
   "cell_type": "code",
   "execution_count": 39,
   "id": "f4595c82-d5e2-4ee7-910b-d06baf50e57e",
   "metadata": {},
   "outputs": [
    {
     "name": "stdin",
     "output_type": "stream",
     "text": [
      "Enter n =  2\n",
      "Enter name =  Ram\n",
      "Enter age no =  34\n",
      "Enter add no  Kathmandu\n",
      "Enter name =  Shyam\n",
      "Enter age no =  23\n",
      "Enter add no  Bhaktapur\n"
     ]
    },
    {
     "name": "stdout",
     "output_type": "stream",
     "text": [
      "{'name': ['Ram', 'Shyam'], 'age': [34, 23], 'add': ['Kathmandu', 'Bhaktapur']}\n"
     ]
    }
   ],
   "source": [
    "# a = {'name':['Ram','Shyam','Hari'],\n",
    "#     'age':[23,56,34],\n",
    "#     'add':[\"Kathmandu\",\"Bhaktapur\",\"Lalitpur\"]}\n",
    "a = {'name':[],'age':[],'add':[]}\n",
    "n = int(input(\"Enter n = \"))\n",
    "for i in range(n):\n",
    "    name = input(\"Enter name = \")\n",
    "    age = int(input(\"Enter age no = \"))\n",
    "    add = input(\"Enter add no \")\n",
    "    a['name'].append(name)\n",
    "    a['age'].append(age)\n",
    "    a['add'].append(add)\n",
    "\n",
    "print(a)"
   ]
  },
  {
   "cell_type": "code",
   "execution_count": 43,
   "id": "c4339d9d-e6f6-4b66-9944-49d4bd354de0",
   "metadata": {},
   "outputs": [
    {
     "name": "stdout",
     "output_type": "stream",
     "text": [
      "Name =  Ram\n",
      "Name =  34\n",
      "Name =  Kathmandu\n"
     ]
    }
   ],
   "source": [
    "a = {'name': ['Ram', 'Shyam'], 'age': [34, 23], 'add': ['Kathmandu', 'Bhaktapur']}\n",
    "print(\"Name = \",a['name'][0])\n",
    "print(\"Name = \",a['age'][0])\n",
    "print(\"Name = \",a['add'][0])"
   ]
  },
  {
   "cell_type": "code",
   "execution_count": 44,
   "id": "089b1a79-8113-4ded-a66e-5ce5d6430aaf",
   "metadata": {},
   "outputs": [
    {
     "data": {
      "text/plain": [
       "{'name': ['Ram', 'Shyam'], 'age': [33, 23], 'add': ['Kathmandu', 'Bhaktapur']}"
      ]
     },
     "execution_count": 44,
     "metadata": {},
     "output_type": "execute_result"
    }
   ],
   "source": [
    "a = {'name': ['Ram', 'Shyam'], 'age': [34, 23], 'add': ['Kathmandu', 'Bhaktapur']}\n",
    "a['age'][0] = 33\n",
    "a"
   ]
  },
  {
   "cell_type": "code",
   "execution_count": 46,
   "id": "84e0fa07-70bd-4f8f-8f57-93de49323c31",
   "metadata": {},
   "outputs": [
    {
     "data": {
      "text/plain": [
       "{'name': ['Shyam'], 'age': [23], 'add': ['Bhaktapur']}"
      ]
     },
     "execution_count": 46,
     "metadata": {},
     "output_type": "execute_result"
    }
   ],
   "source": [
    "a = {'name': ['Ram', 'Shyam'], 'age': [34, 23], 'add': ['Kathmandu', 'Bhaktapur']}\n",
    "del a['name'][0]\n",
    "del a['age'][0]\n",
    "del a['add'][0]\n",
    "a"
   ]
  },
  {
   "cell_type": "code",
   "execution_count": 57,
   "id": "8f3a1104-a86b-4364-acb5-4151c05c809f",
   "metadata": {},
   "outputs": [
    {
     "name": "stdout",
     "output_type": "stream",
     "text": [
      "['name', 'age', 'add']\n"
     ]
    },
    {
     "name": "stdin",
     "output_type": "stream",
     "text": [
      "Enter index =  1\n"
     ]
    },
    {
     "name": "stdout",
     "output_type": "stream",
     "text": [
      "{'name': ['Ram'], 'age': [34], 'add': ['Kathmandu']}\n"
     ]
    }
   ],
   "source": [
    "a = {'name': ['Ram', 'Shyam'], 'age': [34, 23], 'add': ['Kathmandu', 'Bhaktapur']}\n",
    "k = list(a.keys())\n",
    "print(k)\n",
    "index = int(input(\"Enter index = \"))\n",
    "for i in a:\n",
    "    del a[i][index]\n",
    "\n",
    "print(a)"
   ]
  },
  {
   "cell_type": "code",
   "execution_count": 58,
   "id": "c0c95f20-8389-4777-ac87-1ae9ea51cecd",
   "metadata": {},
   "outputs": [
    {
     "name": "stdin",
     "output_type": "stream",
     "text": [
      "Enter index =  0\n",
      "Enter name Rama\n",
      "Enter age 20\n",
      "Enter add Jhapa\n"
     ]
    },
    {
     "name": "stdout",
     "output_type": "stream",
     "text": [
      "{'name': ['Rama', 'Shyam'], 'age': ['20', 23], 'add': ['Jhapa', 'Bhaktapur']}\n"
     ]
    }
   ],
   "source": [
    "a = {'name': ['Ram', 'Shyam'], 'age': ['34', '23'], 'add': ['Kathmandu', 'Bhaktapur']}\n",
    "\n",
    "index = int(input(\"Enter index = \"))\n",
    "for i in a:\n",
    "    x = input(f\"Enter {i}\")\n",
    "    a[i][index] = x\n",
    "\n",
    "print(a)"
   ]
  },
  {
   "cell_type": "code",
   "execution_count": 1,
   "id": "8abf989e-9147-4537-a6ef-79a1ecb15a44",
   "metadata": {},
   "outputs": [
    {
     "data": {
      "text/plain": [
       "[{'name': 'Ram', 'age': 23, 'add': 'Kathmandu'},\n",
       " {'name': 'Shyam', 'age': 43, 'add': 'Bhaktapur'},\n",
       " {'name': 'Hari', 'age': 33, 'add': 'Lalitpur'}]"
      ]
     },
     "execution_count": 1,
     "metadata": {},
     "output_type": "execute_result"
    }
   ],
   "source": [
    "# dict inside list\n",
    "l = [{'name':'Ram','age':23,'add':'Kathmandu'},\n",
    "    {'name':'Shyam','age':43,'add':'Bhaktapur'},\n",
    "    {'name':'Hari','age':33,'add':'Lalitpur'}]\n",
    "l"
   ]
  },
  {
   "cell_type": "code",
   "execution_count": null,
   "id": "1d581392-a9de-454a-acdb-7e95e55ec7df",
   "metadata": {},
   "outputs": [],
   "source": [
    "l = []\n",
    "n = int(input(\"Enter n = \"))\n",
    "for i in range(n):\n",
    "    name = input(\"Enter name = \")\n",
    "    age = int(input(\"Enter age = \"))\n",
    "    add = input(\"Enter add = \")\n",
    "    d = {'name':name,'age':age,'add':add}\n",
    "    l.append(d)\n",
    "\n",
    "print(l)"
   ]
  },
  {
   "cell_type": "code",
   "execution_count": 2,
   "id": "29e71631-0336-497e-9af6-870bc38c561e",
   "metadata": {},
   "outputs": [],
   "source": [
    "# WAP to update delete read to the program"
   ]
  },
  {
   "cell_type": "code",
   "execution_count": null,
   "id": "b53873f1-2b54-48f9-9d93-c5f28789599c",
   "metadata": {},
   "outputs": [],
   "source": [
    "# dict inside dict\n",
    "d = {1:{'name':\"Ram\",'age':34,\"add\":\"Kathmandu\"},\n",
    "    2: {'name':'Shyam','age':43,'add':'Bhaktapur'},\n",
    "    3:{'name':'Hari','age':33,'add':'Lalitpur'}}"
   ]
  },
  {
   "cell_type": "code",
   "execution_count": null,
   "id": "a7335275-e7e2-4b52-8b31-0c9532d5b62c",
   "metadata": {},
   "outputs": [],
   "source": []
  },
  {
   "cell_type": "code",
   "execution_count": null,
   "id": "fa524fea-f888-4a07-90e6-956483a00ad6",
   "metadata": {},
   "outputs": [],
   "source": [
    "info = {}\n",
    "n = int(input(\"Enter n = \"))\n",
    "for i in range(1,n+1):\n",
    "    name = input(\"Enter name = \")\n",
    "    age = int(input(\"Enter age = \"))\n",
    "    add = input(\"Enter add = \")\n",
    "    info[i] = {'name':name,'age':age,'add':add}\n",
    "\n",
    "print(info)"
   ]
  },
  {
   "cell_type": "code",
   "execution_count": null,
   "id": "e4c64c32-0bb4-4ed4-be93-ca1b6eab4177",
   "metadata": {},
   "outputs": [],
   "source": [
    "# WAP to add update delete read to the program"
   ]
  }
 ],
 "metadata": {
  "kernelspec": {
   "display_name": "Python 3 (ipykernel)",
   "language": "python",
   "name": "python3"
  },
  "language_info": {
   "codemirror_mode": {
    "name": "ipython",
    "version": 3
   },
   "file_extension": ".py",
   "mimetype": "text/x-python",
   "name": "python",
   "nbconvert_exporter": "python",
   "pygments_lexer": "ipython3",
   "version": "3.11.7"
  }
 },
 "nbformat": 4,
 "nbformat_minor": 5
}
