{
 "cells": [
  {
   "cell_type": "code",
   "execution_count": 1,
   "id": "3c9d0842-df9f-4f5d-bf29-13d4c62b2801",
   "metadata": {},
   "outputs": [],
   "source": [
    "# for loop\n",
    "# while loop"
   ]
  },
  {
   "cell_type": "code",
   "execution_count": null,
   "id": "13ecae25-0e8b-4c6e-aaeb-9f24168ee46f",
   "metadata": {},
   "outputs": [],
   "source": [
    "# range # creates sequences of no\n",
    "# range(5) #0 1 2 3 4\n",
    "# range(1,5) # 1,2,3,4\n",
    "# range(1,5,2) # 1 3"
   ]
  },
  {
   "cell_type": "code",
   "execution_count": 3,
   "id": "87d539c5-cdfe-4d67-8faf-e769c1009bad",
   "metadata": {},
   "outputs": [
    {
     "name": "stdout",
     "output_type": "stream",
     "text": [
      "0\n",
      "1\n",
      "2\n",
      "3\n",
      "4\n"
     ]
    }
   ],
   "source": [
    "for i in range(5):\n",
    "    print(i)"
   ]
  },
  {
   "cell_type": "code",
   "execution_count": 4,
   "id": "b0b1af54-9450-47c4-9b78-d62d5d2954f9",
   "metadata": {},
   "outputs": [
    {
     "name": "stdout",
     "output_type": "stream",
     "text": [
      "1\n",
      "2\n",
      "3\n",
      "4\n"
     ]
    }
   ],
   "source": [
    "for i in range(1,5):\n",
    "    print(i)"
   ]
  },
  {
   "cell_type": "code",
   "execution_count": 5,
   "id": "246f387a-93ae-45ab-aa83-7a1c0d1f5482",
   "metadata": {},
   "outputs": [
    {
     "name": "stdout",
     "output_type": "stream",
     "text": [
      "1\n",
      "3\n"
     ]
    }
   ],
   "source": [
    "for i in range(1,5,2):\n",
    "    print(i)"
   ]
  },
  {
   "cell_type": "code",
   "execution_count": 7,
   "id": "7527db80-3e23-4795-8d9d-fbdc108b206b",
   "metadata": {},
   "outputs": [
    {
     "name": "stdout",
     "output_type": "stream",
     "text": [
      "0 Hello World\n",
      "1 Hello World\n",
      "2 Hello World\n",
      "3 Hello World\n",
      "4 Hello World\n"
     ]
    }
   ],
   "source": [
    "for i in range(5):\n",
    "    print(i,\"Hello World\")"
   ]
  },
  {
   "cell_type": "code",
   "execution_count": 8,
   "id": "fbabdac0-9bd7-476d-ab8b-befef6d4a4cb",
   "metadata": {},
   "outputs": [
    {
     "name": "stdout",
     "output_type": "stream",
     "text": [
      "5\n",
      "10\n",
      "15\n",
      "20\n",
      "25\n",
      "30\n",
      "35\n",
      "40\n",
      "45\n",
      "50\n"
     ]
    }
   ],
   "source": [
    "for i in range(1,11):\n",
    "    print(i*5)"
   ]
  },
  {
   "cell_type": "code",
   "execution_count": 9,
   "id": "3dec1719-105f-47ac-a5d5-1bfbf1dfd1f7",
   "metadata": {},
   "outputs": [
    {
     "name": "stdin",
     "output_type": "stream",
     "text": [
      "Enter x =  5\n"
     ]
    },
    {
     "name": "stdout",
     "output_type": "stream",
     "text": [
      "5 * 1 = 5\n",
      "5 * 2 = 10\n",
      "5 * 3 = 15\n",
      "5 * 4 = 20\n",
      "5 * 5 = 25\n",
      "5 * 6 = 30\n",
      "5 * 7 = 35\n",
      "5 * 8 = 40\n",
      "5 * 9 = 45\n",
      "5 * 10 = 50\n"
     ]
    }
   ],
   "source": [
    "x = int(input(\"Enter x = \"))\n",
    "for i in range(1,11):\n",
    "    print(x,\"*\",i,\"=\",i*x)"
   ]
  },
  {
   "cell_type": "code",
   "execution_count": 12,
   "id": "3f9b28ac-b17d-4e04-8974-c402c4ac485e",
   "metadata": {},
   "outputs": [
    {
     "name": "stdin",
     "output_type": "stream",
     "text": [
      "Enter x =  1000\n"
     ]
    },
    {
     "name": "stdout",
     "output_type": "stream",
     "text": [
      "1000\n"
     ]
    },
    {
     "name": "stdin",
     "output_type": "stream",
     "text": [
      "Enter x =  2000\n"
     ]
    },
    {
     "name": "stdout",
     "output_type": "stream",
     "text": [
      "3000\n"
     ]
    },
    {
     "name": "stdin",
     "output_type": "stream",
     "text": [
      "Enter x =  4000\n"
     ]
    },
    {
     "name": "stdout",
     "output_type": "stream",
     "text": [
      "7000\n"
     ]
    },
    {
     "name": "stdin",
     "output_type": "stream",
     "text": [
      "Enter x =  6000\n"
     ]
    },
    {
     "name": "stdout",
     "output_type": "stream",
     "text": [
      "13000\n"
     ]
    },
    {
     "name": "stdin",
     "output_type": "stream",
     "text": [
      "Enter x =  3000\n"
     ]
    },
    {
     "name": "stdout",
     "output_type": "stream",
     "text": [
      "16000\n"
     ]
    }
   ],
   "source": [
    "abc = 0  #int()\n",
    "for i in range(5):\n",
    "    x = int(input(\"Enter x = \"))\n",
    "    abc = abc + x\n",
    "\n",
    "print(abc)"
   ]
  },
  {
   "cell_type": "code",
   "execution_count": 1,
   "id": "0b7c884f-86b9-436a-bafa-5fbda4b494ff",
   "metadata": {},
   "outputs": [
    {
     "name": "stdin",
     "output_type": "stream",
     "text": [
      "Enter n =  2\n",
      "Enter x =  RAm\n",
      "Enter x =  Shyam\n"
     ]
    },
    {
     "name": "stdout",
     "output_type": "stream",
     "text": [
      "RAm\n",
      "Shyam\n",
      "\n"
     ]
    }
   ],
   "source": [
    "abc = \"\" #str()\n",
    "n = int(input(\"Enter n = \"))\n",
    "for i in range(n):\n",
    "    x = input(\"Enter x = \")\n",
    "    abc = abc + x + \"\\n\"\n",
    "\n",
    "print(abc)"
   ]
  },
  {
   "cell_type": "code",
   "execution_count": 4,
   "id": "bb1a69d3-ed32-49c7-a57a-449c622cce75",
   "metadata": {},
   "outputs": [
    {
     "name": "stdin",
     "output_type": "stream",
     "text": [
      "Enter n =  2\n",
      "Enter name =  Ram\n",
      "Enter phone =  9808778765\n",
      "Enter name =  Shyam\n",
      "Enter phone =  98765432\n"
     ]
    },
    {
     "name": "stdout",
     "output_type": "stream",
     "text": [
      "Ram 9808778765\n",
      "Shyam 98765432\n",
      "\n"
     ]
    }
   ],
   "source": [
    "contact = \"\"\n",
    "n = int(input(\"Enter n = \"))\n",
    "for i in range(n):\n",
    "    name = input(\"Enter name = \")\n",
    "    phone = int(input(\"Enter phone = \"))\n",
    "    contact = contact + name + \" \" + str(phone) + \"\\n\"\n",
    "\n",
    "print(contact)"
   ]
  },
  {
   "cell_type": "code",
   "execution_count": 5,
   "id": "a2b74bf8-7760-4e33-9ee6-ed826e5363f3",
   "metadata": {},
   "outputs": [],
   "source": [
    "#5! = 1*2*3*4*5"
   ]
  },
  {
   "cell_type": "code",
   "execution_count": 10,
   "id": "d06ebc1b-5bfd-4daf-9b21-26a55656b7ab",
   "metadata": {},
   "outputs": [
    {
     "name": "stdin",
     "output_type": "stream",
     "text": [
      "Enter n =  5\n"
     ]
    },
    {
     "name": "stdout",
     "output_type": "stream",
     "text": [
      "1\n",
      "2\n",
      "6\n",
      "24\n",
      "120\n"
     ]
    }
   ],
   "source": [
    "fac = 1\n",
    "n = int(input(\"Enter n = \"))\n",
    "for i in range(1,n+1):\n",
    "    fac = fac * i\n",
    "\n",
    "    print(fac)"
   ]
  },
  {
   "cell_type": "code",
   "execution_count": 12,
   "id": "abcba9c1-9dc9-43eb-8151-68801cea7975",
   "metadata": {},
   "outputs": [
    {
     "name": "stdout",
     "output_type": "stream",
     "text": [
      "\n",
      "o\n",
      "oo\n",
      "ooo\n",
      "oooo\n",
      "ooooo\n",
      "oooooo\n",
      "ooooooo\n",
      "oooooooo\n",
      "ooooooooo\n"
     ]
    }
   ],
   "source": [
    "for i in range(10):\n",
    "    print(i * 'o')"
   ]
  },
  {
   "cell_type": "code",
   "execution_count": 33,
   "id": "b4986e3e-e2fa-4000-b320-3ba68ebad911",
   "metadata": {},
   "outputs": [
    {
     "name": "stdout",
     "output_type": "stream",
     "text": [
      "           \n",
      "          oo\n",
      "         oooo\n",
      "        oooooo\n",
      "       oooooooo\n",
      "      oooooooooo\n",
      "     oooooooooooo\n",
      "    oooooooooooooo\n",
      "   oooooooooooooooo\n",
      "  oooooooooooooooooo\n",
      "        ooooo\n",
      "        ooooo\n",
      "        ooooo\n",
      "        ooooo\n",
      "        ooooo\n"
     ]
    }
   ],
   "source": [
    "n = 10\n",
    "for i in range(10):\n",
    "    print((n-i)*\" \",2*(i * 'o'))\n",
    "for i in range(5):\n",
    "    print(7*\" \",5*\"o\")"
   ]
  },
  {
   "cell_type": "code",
   "execution_count": 34,
   "id": "a241b27b-6867-4d02-ac29-d76e40bd440d",
   "metadata": {},
   "outputs": [],
   "source": [
    "# WAP to make a billing system\n",
    "# name = ?\n",
    "# price = ?\n",
    "# quantity = ?\n",
    "# total = ?\n",
    "\n",
    "# Coke 100 3 300\n",
    "# Momo 150 4 600"
   ]
  },
  {
   "cell_type": "code",
   "execution_count": 1,
   "id": "5119bde2-7eaa-4bb8-a474-fa188b4c594d",
   "metadata": {},
   "outputs": [
    {
     "name": "stdin",
     "output_type": "stream",
     "text": [
      "Enter n =  2\n",
      "Enter name =  Coke\n",
      "Enter price =  100\n",
      "Enter quantity =  2\n",
      "Enter name =  Momo\n",
      "Enter price =  200\n",
      "Enter quantity =  3\n"
     ]
    },
    {
     "name": "stdout",
     "output_type": "stream",
     "text": [
      "Coke 100 2 200\n",
      "Momo 200 3 600\n",
      "\n"
     ]
    }
   ],
   "source": [
    "bill = \"\"\n",
    "all_total = 0\n",
    "n = int(input(\"Enter n = \"))\n",
    "for i in range(n):\n",
    "    name = input(\"Enter name = \")\n",
    "    price = int(input(\"Enter price = \"))\n",
    "    quantity = int(input(\"Enter quantity = \"))\n",
    "    total = price * quantity\n",
    "    bill = bill + name + \" \" + str(price) + \" \" + str(quantity) + \" \" + str(total) + \"\\n\"\n",
    "    all_total = all_total + total\n",
    "    \n",
    "print(bill)\n",
    "print(all_total)"
   ]
  },
  {
   "cell_type": "code",
   "execution_count": 2,
   "id": "2d6a2254-6439-4000-b424-a31ffd998542",
   "metadata": {},
   "outputs": [
    {
     "name": "stdout",
     "output_type": "stream",
     "text": [
      "H Hello World\n",
      "e Hello World\n",
      "l Hello World\n",
      "l Hello World\n",
      "o Hello World\n",
      "  Hello World\n",
      "W Hello World\n",
      "o Hello World\n",
      "r Hello World\n",
      "l Hello World\n",
      "d Hello World\n"
     ]
    }
   ],
   "source": [
    "a = \"Hello World\"\n",
    "for i in a:\n",
    "    print(i,\"Hello World\")"
   ]
  },
  {
   "cell_type": "code",
   "execution_count": 5,
   "id": "809892bd-7d8b-4805-8eff-b3619ac9a157",
   "metadata": {},
   "outputs": [
    {
     "name": "stdout",
     "output_type": "stream",
     "text": [
      "Hello World I am python"
     ]
    }
   ],
   "source": [
    "a = \"Hello World. I am python.\"\n",
    "for i in a:\n",
    "    if i != \".\":\n",
    "        print(i,end = \"\")"
   ]
  },
  {
   "cell_type": "code",
   "execution_count": 7,
   "id": "4b2fffa7-85ff-42f1-b492-e78d17ffe0d2",
   "metadata": {},
   "outputs": [
    {
     "name": "stdout",
     "output_type": "stream",
     "text": [
      "Hello World I am python!"
     ]
    }
   ],
   "source": [
    "a = \"Hello World. I am python!\"\n",
    "for i in a:\n",
    "    if i != \".\" and i != \"!\":\n",
    "        print(i,end = \"\")"
   ]
  },
  {
   "cell_type": "code",
   "execution_count": null,
   "id": "52429034-79fb-49cf-95c8-8a8ca7266e19",
   "metadata": {},
   "outputs": [],
   "source": [
    "# control statement\n",
    "# break\n",
    "# continue\n",
    "# pass"
   ]
  },
  {
   "cell_type": "code",
   "execution_count": 10,
   "id": "8ae8cacd-4190-4ced-9798-45c099092ad7",
   "metadata": {},
   "outputs": [
    {
     "name": "stdout",
     "output_type": "stream",
     "text": [
      "0\n",
      "1\n",
      "2\n",
      "3\n",
      "4\n"
     ]
    }
   ],
   "source": [
    "# break\n",
    "for i in range(10):\n",
    "    if i == 5:\n",
    "        break\n",
    "    print(i)"
   ]
  },
  {
   "cell_type": "code",
   "execution_count": 11,
   "id": "2dd6ac2f-262a-471e-843d-63580f976c0c",
   "metadata": {},
   "outputs": [
    {
     "name": "stdout",
     "output_type": "stream",
     "text": [
      "Hello World"
     ]
    }
   ],
   "source": [
    "a = \"Hello World. I am python.\"\n",
    "for i in a:\n",
    "    if i != \".\":\n",
    "        print(i,end = \"\")\n",
    "    else:\n",
    "        break"
   ]
  },
  {
   "cell_type": "code",
   "execution_count": 2,
   "id": "b7e68916-8fe0-4323-aeb4-7b31feccb9be",
   "metadata": {},
   "outputs": [
    {
     "name": "stdout",
     "output_type": "stream",
     "text": [
      "Hello World"
     ]
    }
   ],
   "source": [
    "a = \"Hello World. I am python.\"\n",
    "for i in a:\n",
    "    if i == \".\":\n",
    "        break\n",
    "    print(i,end = \"\")"
   ]
  },
  {
   "cell_type": "code",
   "execution_count": 4,
   "id": "373b59c2-154d-4be3-b5f4-a422e79fd38e",
   "metadata": {},
   "outputs": [
    {
     "name": "stdout",
     "output_type": "stream",
     "text": [
      "0 1 2 3 4 6 7 8 9 "
     ]
    }
   ],
   "source": [
    "#continue\n",
    "for i in range(10):\n",
    "    if i == 5:\n",
    "        continue\n",
    "    print(i, end = \" \")"
   ]
  },
  {
   "cell_type": "code",
   "execution_count": 7,
   "id": "795c4fd8-e465-4e27-ae8c-c70eb8ed26f6",
   "metadata": {},
   "outputs": [
    {
     "name": "stdout",
     "output_type": "stream",
     "text": [
      "5 10 15 20 25 30 35 40 45 50 "
     ]
    }
   ],
   "source": [
    "for i in range(1,51):\n",
    "    if i%5 != 0:\n",
    "        continue\n",
    "    print(i, end = \" \")"
   ]
  },
  {
   "cell_type": "code",
   "execution_count": 8,
   "id": "debad31a-3540-4293-a354-d8700f81357a",
   "metadata": {},
   "outputs": [
    {
     "name": "stdout",
     "output_type": "stream",
     "text": [
      "Hello World I am python"
     ]
    }
   ],
   "source": [
    "a = \"Hello World. I am python.\"\n",
    "for i in a:\n",
    "    if i == \".\":\n",
    "        continue\n",
    "    print(i,end = \"\")"
   ]
  },
  {
   "cell_type": "code",
   "execution_count": 11,
   "id": "3bf11e13-2010-4d35-8f22-1ab53d57de68",
   "metadata": {},
   "outputs": [],
   "source": [
    "# pass\n",
    "for i in range(5):\n",
    "    pass"
   ]
  },
  {
   "cell_type": "code",
   "execution_count": 12,
   "id": "833e6c46-8aea-428d-a2fa-6b6cdec394ec",
   "metadata": {},
   "outputs": [],
   "source": [
    "a = 10\n",
    "if a %2 ==0:\n",
    "    pass"
   ]
  },
  {
   "cell_type": "code",
   "execution_count": 13,
   "id": "70229e62-2900-42bf-aa28-c52043849b2d",
   "metadata": {},
   "outputs": [],
   "source": [
    "# While loop"
   ]
  },
  {
   "cell_type": "code",
   "execution_count": 14,
   "id": "ad3e2967-e69b-4a59-b087-2c83dc1ddf54",
   "metadata": {},
   "outputs": [],
   "source": [
    "# while <condition>:\n",
    "#     <operation>"
   ]
  },
  {
   "cell_type": "code",
   "execution_count": 4,
   "id": "f59dbba4-88ff-4650-81ba-a2a076134b61",
   "metadata": {},
   "outputs": [
    {
     "name": "stdout",
     "output_type": "stream",
     "text": [
      "0 Hello World\n",
      "1 Hello World\n",
      "2 Hello World\n",
      "3 Hello World\n",
      "4 Hello World\n"
     ]
    }
   ],
   "source": [
    "a = 0\n",
    "while a < 5:\n",
    "    print(a,\"Hello World\")\n",
    "    a = a + 1"
   ]
  },
  {
   "cell_type": "code",
   "execution_count": 3,
   "id": "e1c1e9df-a12c-4215-87ec-84abf136764f",
   "metadata": {},
   "outputs": [
    {
     "name": "stdout",
     "output_type": "stream",
     "text": [
      "1 Hello World\n",
      "2 Hello World\n",
      "3 Hello World\n",
      "4 Hello World\n"
     ]
    }
   ],
   "source": [
    "a = 1\n",
    "while a < 5:\n",
    "    print(a,\"Hello World\")\n",
    "    a = a + 1"
   ]
  },
  {
   "cell_type": "code",
   "execution_count": 5,
   "id": "cf396e34-5091-4ace-b3dc-e9fee61f3246",
   "metadata": {},
   "outputs": [
    {
     "name": "stdout",
     "output_type": "stream",
     "text": [
      "1 Hello World\n",
      "1.5 Hello World\n",
      "2.0 Hello World\n",
      "2.5 Hello World\n",
      "3.0 Hello World\n",
      "3.5 Hello World\n",
      "4.0 Hello World\n",
      "4.5 Hello World\n"
     ]
    }
   ],
   "source": [
    "a = 1\n",
    "while a < 5:\n",
    "    print(a,\"Hello World\")\n",
    "    a = a + 0.5"
   ]
  },
  {
   "cell_type": "code",
   "execution_count": 7,
   "id": "555f5688-a7f0-4286-ad44-6849b485c2f9",
   "metadata": {},
   "outputs": [
    {
     "name": "stdin",
     "output_type": "stream",
     "text": [
      "Enter x =  5\n"
     ]
    },
    {
     "name": "stdout",
     "output_type": "stream",
     "text": [
      "5 * 1 = 5\n",
      "5 * 2 = 10\n",
      "5 * 3 = 15\n",
      "5 * 4 = 20\n",
      "5 * 5 = 25\n",
      "5 * 6 = 30\n",
      "5 * 7 = 35\n",
      "5 * 8 = 40\n",
      "5 * 9 = 45\n",
      "5 * 10 = 50\n"
     ]
    }
   ],
   "source": [
    "i = 1\n",
    "x = int(input(\"Enter x = \"))\n",
    "while i<=10:\n",
    "    print(x,\"*\",i,\"=\",i*x)\n",
    "    i = i+1"
   ]
  },
  {
   "cell_type": "code",
   "execution_count": 10,
   "id": "3e05dc49-9419-40d4-b3a1-979b9f35b9b2",
   "metadata": {},
   "outputs": [
    {
     "name": "stdin",
     "output_type": "stream",
     "text": [
      "Enter n =  5\n"
     ]
    },
    {
     "name": "stdout",
     "output_type": "stream",
     "text": [
      "120\n"
     ]
    }
   ],
   "source": [
    "i = 1\n",
    "fac = 1\n",
    "n = int(input(\"Enter n = \"))\n",
    "while i<=n:\n",
    "    fac = fac * i\n",
    "    i = i+1\n",
    "\n",
    "print(fac)"
   ]
  },
  {
   "cell_type": "code",
   "execution_count": null,
   "id": "845e0d9f-029d-41f4-874f-f23d97beb6cb",
   "metadata": {},
   "outputs": [],
   "source": [
    "i = 0\n",
    "bill = \"\"\n",
    "all_total = 0\n",
    "n = int(input(\"Enter n = \"))\n",
    "while i <=n:\n",
    "    name = input(\"Enter name = \")\n",
    "    price = int(input(\"Enter price = \"))\n",
    "    quantity = int(input(\"Enter quantity = \"))\n",
    "    total = price * quantity\n",
    "    bill = bill + name + \" \" + str(price) + \" \" + str(quantity) + \" \" + str(total) + \"\\n\"\n",
    "    all_total = all_total + total\n",
    "    i = i+1\n",
    "    \n",
    "print(bill)\n",
    "print(all_total)"
   ]
  },
  {
   "cell_type": "code",
   "execution_count": 11,
   "id": "b4284239-c951-412b-adb6-82408d101a33",
   "metadata": {},
   "outputs": [],
   "source": [
    "# break in while"
   ]
  },
  {
   "cell_type": "code",
   "execution_count": 12,
   "id": "8796fad0-a2f1-4bd1-9adc-a20f3cdd209b",
   "metadata": {},
   "outputs": [
    {
     "name": "stdout",
     "output_type": "stream",
     "text": [
      "0\n",
      "1\n",
      "2\n",
      "3\n",
      "4\n"
     ]
    }
   ],
   "source": [
    "# break\n",
    "i = 0\n",
    "while i<=10:\n",
    "    if i == 5:\n",
    "        break\n",
    "    print(i)\n",
    "    i = i +1"
   ]
  },
  {
   "cell_type": "code",
   "execution_count": 4,
   "id": "e5437c9f-fc3b-4c7d-8fee-2b7c756e1d7f",
   "metadata": {},
   "outputs": [
    {
     "name": "stdout",
     "output_type": "stream",
     "text": [
      "0 1 2 3 4 6 7 8 9 10 "
     ]
    }
   ],
   "source": [
    "# break\n",
    "i = 0\n",
    "while i<=10:\n",
    "    if i == 5:\n",
    "        i = i + 1\n",
    "        continue\n",
    "        \n",
    "    print(i,end = \" \")\n",
    "    i = i +1"
   ]
  },
  {
   "cell_type": "code",
   "execution_count": null,
   "id": "381b0135-54f0-41f2-a56c-d09b606fee02",
   "metadata": {},
   "outputs": [],
   "source": [
    "# WAP to find if the given no is prime or composite"
   ]
  }
 ],
 "metadata": {
  "kernelspec": {
   "display_name": "Python 3 (ipykernel)",
   "language": "python",
   "name": "python3"
  },
  "language_info": {
   "codemirror_mode": {
    "name": "ipython",
    "version": 3
   },
   "file_extension": ".py",
   "mimetype": "text/x-python",
   "name": "python",
   "nbconvert_exporter": "python",
   "pygments_lexer": "ipython3",
   "version": "3.11.7"
  }
 },
 "nbformat": 4,
 "nbformat_minor": 5
}
