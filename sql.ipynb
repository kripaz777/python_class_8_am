{
 "cells": [
  {
   "cell_type": "code",
   "execution_count": 2,
   "id": "84d6062f-0c62-47c2-a8bb-1ae9cac43ed0",
   "metadata": {},
   "outputs": [],
   "source": [
    "#!pip install mysql-connector-python"
   ]
  },
  {
   "cell_type": "code",
   "execution_count": 2,
   "id": "d022ab45-815c-4a94-90a4-20191af2ffeb",
   "metadata": {},
   "outputs": [],
   "source": [
    "import mysql.connector  \t\t#importing database\n",
    "database = mysql.connector.connect(\n",
    "    host=\"localhost\",\n",
    "    user=\"root\",\n",
    "    password=\"\",\n",
    "    database = \"pythonclass8am\"\n",
    ")\n",
    "db = database.cursor()"
   ]
  },
  {
   "cell_type": "code",
   "execution_count": 4,
   "id": "5cc31df5-015b-4e49-8bee-56d689f884fc",
   "metadata": {},
   "outputs": [
    {
     "name": "stdout",
     "output_type": "stream",
     "text": [
      "(1, 'Shyam', 78, 76, 90, 67, 89, 412, 82.5, 'A')\n",
      "(2, 'Ram', 78, 87, 67, 89, 87, 450, 85.5, 'A+')\n",
      "(5, 'Shyama', 78, 60, 75, 70, 78, 410, 81.4, 'A')\n",
      "(8, 'Rama', 89, 78, 89, 67, 86, 400, 80.0, 'A')\n",
      "(9, 'Ram', 89, 78, 89, 67, 86, 400, 80.0, 'A+')\n",
      "(10, 'Ram', 89, 78, 89, 67, 86, 400, 80.0, 'A+')\n",
      "(11, 'Sagar', 89, 87, 67, 89, 76, 408, 81.6, 'A+')\n",
      "(15, 'Sabin', 89, 87, 90, 79, 80, 415, 83.0, 'A+')\n",
      "(16, 'Nabin', 99, 97, 90, 99, 90, 480, 95.0, 'A+')\n",
      "(17, 'Kabir', 99, 97, 90, 99, 90, 480, 95.0, 'A+')\n",
      "(18, 'Abhinav', 89, 80, 90, 89, 78, 426, 85.2, 'A')\n",
      "(20, 'Akash', 78, 56, 90, 45, 67, 410, 79.0, 'B')\n",
      "(21, 'Nabin', 89, 67, 90, 78, 56, 390, 78.0, 'B')\n"
     ]
    }
   ],
   "source": [
    "db.execute(\"SELECT * FROM student\")\n",
    "result =db.fetchall()\n",
    "for x in result:\n",
    "    print(x)"
   ]
  },
  {
   "cell_type": "code",
   "execution_count": 5,
   "id": "fb3457ec-013e-4c6c-aecf-5d88ac3a04f9",
   "metadata": {},
   "outputs": [
    {
     "name": "stdout",
     "output_type": "stream",
     "text": [
      "1 record inserted.\n"
     ]
    }
   ],
   "source": [
    "#insert data into table\n",
    "sql = ''' INSERT INTO `student` (`sn`, `name`, `physics`, `chemistry`, `math`, `english`, `nepali`, `total`, `per`, `grade`)\n",
    "VALUES (24, 'Anusha', 78, 77, 99, 88, 87, 400, 78, B);'''\n",
    "db.execute(sql)\n",
    "database.commit()\n",
    "print(db.rowcount, \"record inserted.\")"
   ]
  },
  {
   "cell_type": "code",
   "execution_count": 6,
   "id": "5c19f2eb-6fa7-4545-a4d2-9ad5e572eefa",
   "metadata": {},
   "outputs": [
    {
     "name": "stdin",
     "output_type": "stream",
     "text": [
      "Enter name =  Hari\n",
      "Enter physics marks=  89\n",
      "Enter chemistry marks=  87\n",
      "Enter math marks=  90\n",
      "Enter english marks=  78\n",
      "Enter nepali marks=  76\n"
     ]
    },
    {
     "name": "stdout",
     "output_type": "stream",
     "text": [
      "1 record inserted.\n"
     ]
    }
   ],
   "source": [
    "name = input(\"Enter name = \")\n",
    "physics = int(input(\"Enter physics marks= \"))\n",
    "chemistry = int(input(\"Enter chemistry marks= \"))\n",
    "math = int(input(\"Enter math marks= \"))\n",
    "english = int(input(\"Enter english marks= \"))\n",
    "nepali = int(input(\"Enter nepali marks= \"))\n",
    "\n",
    "total = physics + chemistry + math + english + nepali\n",
    "per = total/5\n",
    "\n",
    "if per >= 80:\n",
    "    grade = \"A\"\n",
    "elif per >= 60:\n",
    "    grade = \"B\"\n",
    "elif per >= 45:\n",
    "    grade = \"C\"\n",
    "else:\n",
    "    grade = \"F\"\n",
    "    \n",
    "\n",
    "#insert data into table\n",
    "sql = f''' INSERT INTO student (name, physics, chemistry, math, english, nepali, total, per, grade)\n",
    "        VALUES ('{name}', {physics}, {chemistry}, {math}, {english}, {nepali}, {total}, {per}, '{grade}')'''\n",
    "db.execute(sql)\n",
    "database.commit()\n",
    "print(db.rowcount, \"record inserted.\")"
   ]
  },
  {
   "cell_type": "code",
   "execution_count": 3,
   "id": "42166061-82a5-41d9-a34c-203ddcc42d7d",
   "metadata": {},
   "outputs": [
    {
     "name": "stdout",
     "output_type": "stream",
     "text": [
      "1 record(s) affected\n"
     ]
    }
   ],
   "source": [
    "# Update in sql\n",
    "sql = \"UPDATE student SET name = 'Rama' WHERE sn = 2\"\n",
    "db.execute(sql)\n",
    "database.commit()\n",
    "print(db.rowcount, \"record(s) affected\")\n"
   ]
  },
  {
   "cell_type": "code",
   "execution_count": null,
   "id": "7b1a63cc-4858-4cbe-a954-e55406c24a24",
   "metadata": {},
   "outputs": [],
   "source": [
    "#Delete in sql\n",
    "sql = \"DELETE FROM student WHERE sn = 29\"\n",
    "db.execute(sql)\n",
    "database.commit()\n",
    "print(db.rowcount, \"record(s) deleted\")"
   ]
  },
  {
   "cell_type": "code",
   "execution_count": 4,
   "id": "44621349-9832-4358-81e1-0b59f052ec10",
   "metadata": {},
   "outputs": [
    {
     "name": "stdout",
     "output_type": "stream",
     "text": [
      "(1, 'Shyam', 78, 76, 90, 67, 89, 412, 82.5, 'A')\n",
      "(5, 'Shyama', 78, 60, 75, 70, 78, 410, 81.4, 'A')\n",
      "(8, 'Rama', 89, 78, 89, 67, 86, 400, 80.0, 'A')\n",
      "(18, 'Abhinav', 89, 80, 90, 89, 78, 426, 85.2, 'A')\n",
      "(25, 'Hari', 89, 87, 90, 78, 76, 420, 84.0, 'A')\n"
     ]
    }
   ],
   "source": [
    "# Select \n",
    "db.execute(\"SELECT * FROM student WHERE grade = 'A'\")\n",
    "result =db.fetchall()\n",
    "for x in result:\n",
    "    print(x)"
   ]
  },
  {
   "cell_type": "code",
   "execution_count": 5,
   "id": "09083ef3-185e-476f-9da0-bee2c0d6cb5e",
   "metadata": {},
   "outputs": [
    {
     "name": "stdout",
     "output_type": "stream",
     "text": [
      "(8, 'Rama', 89, 78, 89, 67, 86, 400, 80.0, 'A')\n",
      "(9, 'Ram', 89, 78, 89, 67, 86, 400, 80.0, 'A+')\n",
      "(10, 'Ram', 89, 78, 89, 67, 86, 400, 80.0, 'A+')\n",
      "(11, 'Sagar', 89, 87, 67, 89, 76, 408, 81.6, 'A+')\n",
      "(15, 'Sabin', 89, 87, 90, 79, 80, 415, 83.0, 'A+')\n",
      "(16, 'Nabin', 99, 97, 90, 99, 90, 480, 95.0, 'A+')\n",
      "(17, 'Kabir', 99, 97, 90, 99, 90, 480, 95.0, 'A+')\n",
      "(18, 'Abhinav', 89, 80, 90, 89, 78, 426, 85.2, 'A')\n",
      "(21, 'Nabin', 89, 67, 90, 78, 56, 390, 78.0, 'B')\n",
      "(25, 'Hari', 89, 87, 90, 78, 76, 420, 84.0, 'A')\n"
     ]
    }
   ],
   "source": [
    "# Select \n",
    "db.execute(\"SELECT * FROM student WHERE physics > 80\")\n",
    "result =db.fetchall()\n",
    "for x in result:\n",
    "    print(x)"
   ]
  },
  {
   "cell_type": "code",
   "execution_count": 15,
   "id": "54e00a02-ec02-4dac-9d9c-d1e4c91b680d",
   "metadata": {},
   "outputs": [
    {
     "name": "stdout",
     "output_type": "stream",
     "text": [
      "(2, 'Rama', 78, 87, 67, 89, 87, 450, 85.5, 'A+')\n",
      "(8, 'Rama', 89, 78, 89, 67, 86, 400, 80.0, 'A')\n",
      "(9, 'Ram', 89, 78, 89, 67, 86, 400, 80.0, 'A+')\n",
      "(10, 'Ram', 89, 78, 89, 67, 86, 400, 80.0, 'A+')\n"
     ]
    }
   ],
   "source": [
    "# search\n",
    "db.execute(\"SELECT * FROM student WHERE name LIKE '%ram%'\")\n",
    "result =db.fetchall()\n",
    "for x in result:\n",
    "    print(x)"
   ]
  },
  {
   "cell_type": "code",
   "execution_count": 17,
   "id": "13fe3573-c210-4acd-b857-abd375e726de",
   "metadata": {},
   "outputs": [
    {
     "name": "stdout",
     "output_type": "stream",
     "text": [
      "(18, 'Abhinav', 89, 80, 90, 89, 78, 426, 85.2, 'A')\n"
     ]
    }
   ],
   "source": [
    "# Select \n",
    "db.execute(\"SELECT * FROM student WHERE physics > 80 and chemistry=80\")\n",
    "result =db.fetchall()\n",
    "for x in result:\n",
    "    print(x)"
   ]
  },
  {
   "cell_type": "code",
   "execution_count": 19,
   "id": "d8012d46-4ed6-4f8c-ab79-96207c4b0cc8",
   "metadata": {},
   "outputs": [
    {
     "name": "stdout",
     "output_type": "stream",
     "text": [
      "(2, 'Rama', 78, 87, 67, 89, 87, 450, 85.5, 'A+')\n",
      "(8, 'Rama', 89, 78, 89, 67, 86, 400, 80.0, 'A')\n",
      "(9, 'Ram', 89, 78, 89, 67, 86, 400, 80.0, 'A+')\n",
      "(10, 'Ram', 89, 78, 89, 67, 86, 400, 80.0, 'A+')\n",
      "(11, 'Sagar', 89, 87, 67, 89, 76, 408, 81.6, 'A+')\n",
      "(15, 'Sabin', 89, 87, 90, 79, 80, 415, 83.0, 'A+')\n",
      "(16, 'Nabin', 99, 97, 90, 99, 90, 480, 95.0, 'A+')\n",
      "(17, 'Kabir', 99, 97, 90, 99, 90, 480, 95.0, 'A+')\n",
      "(18, 'Abhinav', 89, 80, 90, 89, 78, 426, 85.2, 'A')\n",
      "(21, 'Nabin', 89, 67, 90, 78, 56, 390, 78.0, 'B')\n",
      "(25, 'Hari', 89, 87, 90, 78, 76, 420, 84.0, 'A')\n"
     ]
    }
   ],
   "source": [
    "# Select \n",
    "db.execute(\"SELECT * FROM student WHERE physics >= 80 or chemistry>=80\")\n",
    "result =db.fetchall()\n",
    "for x in result:\n",
    "    print(x)"
   ]
  },
  {
   "cell_type": "code",
   "execution_count": 20,
   "id": "c0528868-d6c7-4a40-b2d5-9f4d2803946a",
   "metadata": {},
   "outputs": [
    {
     "name": "stdout",
     "output_type": "stream",
     "text": [
      "('Shyam', 412, 82.5, 'A')\n",
      "('Rama', 450, 85.5, 'A+')\n",
      "('Shyama', 410, 81.4, 'A')\n",
      "('Rama', 400, 80.0, 'A')\n",
      "('Ram', 400, 80.0, 'A+')\n",
      "('Ram', 400, 80.0, 'A+')\n",
      "('Sagar', 408, 81.6, 'A+')\n",
      "('Sabin', 415, 83.0, 'A+')\n",
      "('Nabin', 480, 95.0, 'A+')\n",
      "('Kabir', 480, 95.0, 'A+')\n",
      "('Abhinav', 426, 85.2, 'A')\n",
      "('Akash', 410, 79.0, 'B')\n",
      "('Nabin', 390, 78.0, 'B')\n",
      "('Nabin', 400, 78.0, 'B')\n",
      "('Nabina', 400, 78.0, 'B')\n",
      "('Anusha', 400, 78.0, 'B')\n",
      "('Hari', 420, 84.0, 'A')\n",
      "('Anusha', 400, 78.0, 'B')\n"
     ]
    }
   ],
   "source": [
    "# Select \n",
    "db.execute(\"SELECT name,total,per,grade FROM student\")\n",
    "result =db.fetchall()\n",
    "for x in result:\n",
    "    print(x)"
   ]
  },
  {
   "cell_type": "code",
   "execution_count": 24,
   "id": "0912bf33-94da-4d61-8b3a-3e413cefdcb8",
   "metadata": {},
   "outputs": [
    {
     "name": "stdout",
     "output_type": "stream",
     "text": [
      "(17, 'Kabir', 99, 97, 90, 99, 90, 480, 95.0, 'A+')\n",
      "(16, 'Nabin', 99, 97, 90, 99, 90, 480, 95.0, 'A+')\n",
      "(2, 'Rama', 78, 87, 67, 89, 87, 450, 85.5, 'A+')\n",
      "(18, 'Abhinav', 89, 80, 90, 89, 78, 426, 85.2, 'A')\n",
      "(25, 'Hari', 89, 87, 90, 78, 76, 420, 84.0, 'A')\n",
      "(15, 'Sabin', 89, 87, 90, 79, 80, 415, 83.0, 'A+')\n",
      "(1, 'Shyam', 78, 76, 90, 67, 89, 412, 82.5, 'A')\n",
      "(5, 'Shyama', 78, 60, 75, 70, 78, 410, 81.4, 'A')\n",
      "(20, 'Akash', 78, 56, 90, 45, 67, 410, 79.0, 'B')\n",
      "(11, 'Sagar', 89, 87, 67, 89, 76, 408, 81.6, 'A+')\n",
      "(24, 'Anusha', 78, 77, 99, 88, 87, 400, 78.0, 'B')\n",
      "(23, 'Nabina', 78, 77, 99, 88, 87, 400, 78.0, 'B')\n",
      "(22, 'Nabin', 78, 77, 99, 88, 87, 400, 78.0, 'B')\n",
      "(29, 'Anusha', 78, 77, 99, 88, 87, 400, 78.0, 'B')\n",
      "(8, 'Rama', 89, 78, 89, 67, 86, 400, 80.0, 'A')\n",
      "(9, 'Ram', 89, 78, 89, 67, 86, 400, 80.0, 'A+')\n",
      "(10, 'Ram', 89, 78, 89, 67, 86, 400, 80.0, 'A+')\n",
      "(21, 'Nabin', 89, 67, 90, 78, 56, 390, 78.0, 'B')\n"
     ]
    }
   ],
   "source": [
    "# Select \n",
    "db.execute(\"SELECT * FROM student ORDER BY total DESC\")\n",
    "result =db.fetchall()\n",
    "for x in result:\n",
    "    print(x)"
   ]
  },
  {
   "cell_type": "code",
   "execution_count": 25,
   "id": "dba9b71e-af62-42b5-bd63-cdb3aec9ebfc",
   "metadata": {},
   "outputs": [
    {
     "name": "stdout",
     "output_type": "stream",
     "text": [
      "(17, 'Kabir', 99, 97, 90, 99, 90, 480, 95.0, 'A+')\n",
      "(16, 'Nabin', 99, 97, 90, 99, 90, 480, 95.0, 'A+')\n",
      "(2, 'Rama', 78, 87, 67, 89, 87, 450, 85.5, 'A+')\n",
      "(18, 'Abhinav', 89, 80, 90, 89, 78, 426, 85.2, 'A')\n",
      "(25, 'Hari', 89, 87, 90, 78, 76, 420, 84.0, 'A')\n",
      "(15, 'Sabin', 89, 87, 90, 79, 80, 415, 83.0, 'A+')\n",
      "(1, 'Shyam', 78, 76, 90, 67, 89, 412, 82.5, 'A')\n",
      "(5, 'Shyama', 78, 60, 75, 70, 78, 410, 81.4, 'A')\n",
      "(20, 'Akash', 78, 56, 90, 45, 67, 410, 79.0, 'B')\n",
      "(11, 'Sagar', 89, 87, 67, 89, 76, 408, 81.6, 'A+')\n"
     ]
    }
   ],
   "source": [
    "# Select \n",
    "db.execute(\"SELECT * FROM student ORDER BY total DESC\")\n",
    "result =db.fetchall()\n",
    "for x in result[0:10]:\n",
    "    print(x)"
   ]
  },
  {
   "cell_type": "code",
   "execution_count": null,
   "id": "a17e9927-bc75-4131-99c0-1d574d9a1174",
   "metadata": {},
   "outputs": [],
   "source": []
  }
 ],
 "metadata": {
  "kernelspec": {
   "display_name": "Python 3 (ipykernel)",
   "language": "python",
   "name": "python3"
  },
  "language_info": {
   "codemirror_mode": {
    "name": "ipython",
    "version": 3
   },
   "file_extension": ".py",
   "mimetype": "text/x-python",
   "name": "python",
   "nbconvert_exporter": "python",
   "pygments_lexer": "ipython3",
   "version": "3.11.7"
  }
 },
 "nbformat": 4,
 "nbformat_minor": 5
}
