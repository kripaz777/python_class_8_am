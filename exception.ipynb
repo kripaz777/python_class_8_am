{
 "cells": [
  {
   "cell_type": "code",
   "execution_count": 1,
   "id": "cf7e2e86-07b1-4c92-9c9d-db0ded764bd8",
   "metadata": {},
   "outputs": [],
   "source": [
    "# exception han"
   ]
  },
  {
   "cell_type": "code",
   "execution_count": 2,
   "id": "25058848-de8f-47db-b602-ac94ad3f8066",
   "metadata": {},
   "outputs": [],
   "source": [
    "# try:\n",
    "#     <operation>\n",
    "# except:\n",
    "#     <oeration>"
   ]
  },
  {
   "cell_type": "code",
   "execution_count": 2,
   "id": "d2adba9c-8392-4fe8-8f21-33ed618ac126",
   "metadata": {},
   "outputs": [
    {
     "name": "stdin",
     "output_type": "stream",
     "text": [
      "Enter a =  dfsfsdsdf\n"
     ]
    },
    {
     "name": "stdout",
     "output_type": "stream",
     "text": [
      "Error\n"
     ]
    }
   ],
   "source": [
    "try:\n",
    "    a = int(input(\"Enter a = \"))\n",
    "    b = int(input(\"Enter b = \"))\n",
    "    print(a+b)\n",
    "except:\n",
    "    print(\"Error\")"
   ]
  },
  {
   "cell_type": "code",
   "execution_count": 3,
   "id": "4828a064-a74f-4997-9122-741a917b38ac",
   "metadata": {},
   "outputs": [
    {
     "name": "stdout",
     "output_type": "stream",
     "text": [
      "The file is already there.\n"
     ]
    }
   ],
   "source": [
    "try:\n",
    "    file = open('file.txt',x)\n",
    "    file.close()\n",
    "except:\n",
    "    print(\"The file is already there.\")"
   ]
  },
  {
   "cell_type": "code",
   "execution_count": 6,
   "id": "47d9afc0-05a0-4748-96cb-ee6e682bea13",
   "metadata": {},
   "outputs": [
    {
     "name": "stdin",
     "output_type": "stream",
     "text": [
      "Enter a =  wrerew\n"
     ]
    },
    {
     "ename": "ValueError",
     "evalue": "invalid literal for int() with base 10: 'wrerew'",
     "output_type": "error",
     "traceback": [
      "\u001b[1;31m---------------------------------------------------------------------------\u001b[0m",
      "\u001b[1;31mValueError\u001b[0m                                Traceback (most recent call last)",
      "Cell \u001b[1;32mIn[6], line 1\u001b[0m\n\u001b[1;32m----> 1\u001b[0m a \u001b[38;5;241m=\u001b[39m \u001b[38;5;28mint\u001b[39m(\u001b[38;5;28minput\u001b[39m(\u001b[38;5;124m\"\u001b[39m\u001b[38;5;124mEnter a = \u001b[39m\u001b[38;5;124m\"\u001b[39m))\n",
      "\u001b[1;31mValueError\u001b[0m: invalid literal for int() with base 10: 'wrerew'"
     ]
    }
   ],
   "source": [
    "a = int(input(\"Enter a = \"))\n"
   ]
  },
  {
   "cell_type": "code",
   "execution_count": 5,
   "id": "72f4c14c-0bdd-4e17-a3dd-0a49cf106d5f",
   "metadata": {},
   "outputs": [
    {
     "ename": "ZeroDivisionError",
     "evalue": "division by zero",
     "output_type": "error",
     "traceback": [
      "\u001b[1;31m---------------------------------------------------------------------------\u001b[0m",
      "\u001b[1;31mZeroDivisionError\u001b[0m                         Traceback (most recent call last)",
      "Cell \u001b[1;32mIn[5], line 1\u001b[0m\n\u001b[1;32m----> 1\u001b[0m \u001b[38;5;241m10\u001b[39m\u001b[38;5;241m/\u001b[39m\u001b[38;5;241m0\u001b[39m\n",
      "\u001b[1;31mZeroDivisionError\u001b[0m: division by zero"
     ]
    }
   ],
   "source": [
    "10/0"
   ]
  },
  {
   "cell_type": "code",
   "execution_count": 11,
   "id": "63bd21e6-851d-4fb2-a356-60ae641135ea",
   "metadata": {},
   "outputs": [
    {
     "name": "stdin",
     "output_type": "stream",
     "text": [
      "Enter a =  jhjk\n"
     ]
    },
    {
     "name": "stdout",
     "output_type": "stream",
     "text": [
      "Enter only int value!\n"
     ]
    }
   ],
   "source": [
    "try:\n",
    "    a = int(input(\"Enter a = \"))\n",
    "    b = int(input(\"Enter b = \"))\n",
    "    print(a/b)\n",
    "    \n",
    "except ValueError:\n",
    "    print(\"Enter only int value!\")\n",
    "    \n",
    "except ZeroDivisionError:\n",
    "    print(\"value of b can not be zero!\")"
   ]
  },
  {
   "cell_type": "code",
   "execution_count": 1,
   "id": "c8daa495-b304-4b34-b945-d8814e4d0991",
   "metadata": {},
   "outputs": [
    {
     "name": "stdin",
     "output_type": "stream",
     "text": [
      "Enter a =  10\n",
      "Enter b =  0\n"
     ]
    },
    {
     "name": "stdout",
     "output_type": "stream",
     "text": [
      "value of b can not be zero!\n"
     ]
    }
   ],
   "source": [
    "try:\n",
    "    a = int(input(\"Enter a = \"))\n",
    "    b = int(input(\"Enter b = \"))\n",
    "    c = a/b\n",
    "except ValueError:\n",
    "    print(\"Enter only int value!\")\n",
    "    \n",
    "except ZeroDivisionError:\n",
    "    print(\"value of b can not be zero!\")\n",
    "    \n",
    "else:\n",
    "    print(c)"
   ]
  },
  {
   "cell_type": "code",
   "execution_count": 10,
   "id": "72da3c53-7be5-499d-ad91-9607d02150bd",
   "metadata": {},
   "outputs": [
    {
     "name": "stdin",
     "output_type": "stream",
     "text": [
      "Enter age =  11\n"
     ]
    },
    {
     "ename": "AssertionError",
     "evalue": "",
     "output_type": "error",
     "traceback": [
      "\u001b[1;31m---------------------------------------------------------------------------\u001b[0m",
      "\u001b[1;31mAssertionError\u001b[0m                            Traceback (most recent call last)",
      "Cell \u001b[1;32mIn[10], line 3\u001b[0m\n\u001b[0;32m      1\u001b[0m \u001b[38;5;66;03m# assert statement\u001b[39;00m\n\u001b[0;32m      2\u001b[0m age \u001b[38;5;241m=\u001b[39m \u001b[38;5;28mint\u001b[39m(\u001b[38;5;28minput\u001b[39m(\u001b[38;5;124m\"\u001b[39m\u001b[38;5;124mEnter age = \u001b[39m\u001b[38;5;124m\"\u001b[39m))\n\u001b[1;32m----> 3\u001b[0m \u001b[38;5;28;01massert\u001b[39;00m age \u001b[38;5;241m>\u001b[39m\u001b[38;5;241m=\u001b[39m\u001b[38;5;241m20\u001b[39m\n",
      "\u001b[1;31mAssertionError\u001b[0m: "
     ]
    }
   ],
   "source": [
    "# assert statement\n",
    "age = int(input(\"Enter age = \"))\n",
    "assert age >=20"
   ]
  },
  {
   "cell_type": "code",
   "execution_count": 9,
   "id": "bc07041a-d0b9-4327-91f3-7d4c27e328b1",
   "metadata": {},
   "outputs": [
    {
     "name": "stdin",
     "output_type": "stream",
     "text": [
      "Enter age =  22\n"
     ]
    },
    {
     "name": "stdout",
     "output_type": "stream",
     "text": [
      "Welcome\n"
     ]
    }
   ],
   "source": [
    "try:\n",
    "    age = int(input(\"Enter age = \"))\n",
    "    assert age >=20\n",
    "except:\n",
    "    print(\"Your are under 20\")\n",
    "else:\n",
    "    print(\"Welcome\")"
   ]
  },
  {
   "cell_type": "code",
   "execution_count": 16,
   "id": "0c203649-4f95-4e56-b014-c88f88674dbd",
   "metadata": {},
   "outputs": [
    {
     "name": "stdin",
     "output_type": "stream",
     "text": [
      "Enter username =  asdas\n",
      "Enter password =  323243\n"
     ]
    },
    {
     "name": "stdout",
     "output_type": "stream",
     "text": [
      "Username or password does not match.\n"
     ]
    },
    {
     "name": "stdin",
     "output_type": "stream",
     "text": [
      "Enter username =  admin\n",
      "Enter password =  admin\n"
     ]
    },
    {
     "name": "stdout",
     "output_type": "stream",
     "text": [
      "Login success! in 2 attempt\n"
     ]
    }
   ],
   "source": [
    "c = 1\n",
    "username = \"admin\"\n",
    "password = \"admin\"\n",
    "def login():\n",
    "    global c\n",
    "    try:\n",
    "        username1 = input(\"Enter username = \")\n",
    "        password1 = input(\"Enter password = \")\n",
    "        assert username == username1 and password == password1\n",
    "    except AssertionError:\n",
    "        print(\"Username or password does not match.\")\n",
    "        c = c + 1\n",
    "        login()\n",
    "    else:\n",
    "        print(f\"Login success! in {c} attempt\")\n",
    "        \n",
    "login()"
   ]
  },
  {
   "cell_type": "code",
   "execution_count": null,
   "id": "7e9fc7c3-3723-420b-bb77-3264551c4311",
   "metadata": {},
   "outputs": [],
   "source": []
  }
 ],
 "metadata": {
  "kernelspec": {
   "display_name": "Python 3 (ipykernel)",
   "language": "python",
   "name": "python3"
  },
  "language_info": {
   "codemirror_mode": {
    "name": "ipython",
    "version": 3
   },
   "file_extension": ".py",
   "mimetype": "text/x-python",
   "name": "python",
   "nbconvert_exporter": "python",
   "pygments_lexer": "ipython3",
   "version": "3.11.7"
  }
 },
 "nbformat": 4,
 "nbformat_minor": 5
}
