{
 "cells": [
  {
   "cell_type": "code",
   "execution_count": 1,
   "id": "f8c0b51b-b0e3-4ed0-9fe8-0340a9494855",
   "metadata": {},
   "outputs": [],
   "source": [
    "# Python collection\n",
    "# list\n",
    "# tuple\n",
    "# dict\n",
    "# set"
   ]
  },
  {
   "cell_type": "code",
   "execution_count": 2,
   "id": "1c52e5bb-f16a-4b5f-8908-6e6754b9fbd0",
   "metadata": {},
   "outputs": [],
   "source": [
    "# list\n",
    "# multiple and duplicate data\n",
    "# indexing\n",
    "# Ordered\n",
    "# mutable"
   ]
  },
  {
   "cell_type": "code",
   "execution_count": 3,
   "id": "86ac99a3-619c-4c57-9fc1-5cf787adc322",
   "metadata": {},
   "outputs": [],
   "source": [
    "a = list()\n",
    "b = []"
   ]
  },
  {
   "cell_type": "code",
   "execution_count": 8,
   "id": "9a51fc7c-6b56-4c89-9908-e39fbe5ba10c",
   "metadata": {},
   "outputs": [
    {
     "name": "stdout",
     "output_type": "stream",
     "text": [
      "<class 'list'>\n",
      "<class 'list'>\n",
      "['Apple', 'Ball', 'Cat', 'Dog', 'Fish', 'Apple']\n"
     ]
    }
   ],
   "source": [
    "a = [\"Apple\",\"Ball\",\"Cat\",\"Dog\",\"Fish\",\"Apple\"]\n",
    "b = [0,1,2,3,4,5,6,7,8,9,0]\n",
    "print(type(a))\n",
    "print(type(b))\n",
    "print(a)"
   ]
  },
  {
   "cell_type": "code",
   "execution_count": 7,
   "id": "43a6caa9-5999-45be-883a-d34ec9bd88cd",
   "metadata": {},
   "outputs": [
    {
     "name": "stdout",
     "output_type": "stream",
     "text": [
      "Apple\n",
      "['Apple', 'Ball', 'Cat', 'Dog', 'Fish']\n",
      "['Apple', 'Cat', 'Fish']\n"
     ]
    }
   ],
   "source": [
    "a = [\"Apple\",\"Ball\",\"Cat\",\"Dog\",\"Fish\",\"Apple\"]\n",
    "print(a[0])\n",
    "print(a[0:5])\n",
    "print(a[0:5:2])"
   ]
  },
  {
   "cell_type": "code",
   "execution_count": 9,
   "id": "8b772b86-a4ca-434c-bfe4-50ef948f1c70",
   "metadata": {},
   "outputs": [
    {
     "name": "stdout",
     "output_type": "stream",
     "text": [
      "[1, 2, 3, 4, 5, 6, 7, 8, 9]\n"
     ]
    }
   ],
   "source": [
    "a = [1,2,3,4,5]\n",
    "b = [6,7,8,9]\n",
    "c = a+b\n",
    "print(c)"
   ]
  },
  {
   "cell_type": "code",
   "execution_count": 10,
   "id": "0c2aa0b3-9031-4f36-ab1a-50048a47c9a8",
   "metadata": {},
   "outputs": [
    {
     "name": "stdout",
     "output_type": "stream",
     "text": [
      "[1, 2, 3, 4, 5, 1, 2, 3, 4, 5]\n"
     ]
    }
   ],
   "source": [
    "a = [1,2,3,4,5]\n",
    "print(a*2)"
   ]
  },
  {
   "cell_type": "code",
   "execution_count": 11,
   "id": "ac912b70-97bb-4f58-bd31-47431de5f904",
   "metadata": {},
   "outputs": [],
   "source": [
    "#append() insert() extend()"
   ]
  },
  {
   "cell_type": "code",
   "execution_count": 12,
   "id": "75567878-edeb-4c6c-9090-db87ec356e52",
   "metadata": {},
   "outputs": [
    {
     "name": "stdout",
     "output_type": "stream",
     "text": [
      "['Apple', 'Ball']\n"
     ]
    }
   ],
   "source": [
    "a = []\n",
    "a.append(\"Apple\")\n",
    "a.append(\"Ball\")\n",
    "print(a)"
   ]
  },
  {
   "cell_type": "code",
   "execution_count": 13,
   "id": "27f67f04-edc7-40b2-ad08-47d0c9c560e5",
   "metadata": {},
   "outputs": [
    {
     "name": "stdin",
     "output_type": "stream",
     "text": [
      "Enter n =  10\n",
      "Enter x =  34\n",
      "Enter x =  56\n",
      "Enter x =  76\n",
      "Enter x =  34\n",
      "Enter x =  90\n",
      "Enter x =  87\n",
      "Enter x =  11\n",
      "Enter x =  45\n",
      "Enter x =  34\n",
      "Enter x =  87\n"
     ]
    },
    {
     "name": "stdout",
     "output_type": "stream",
     "text": [
      "[34, 56, 76, 34, 90, 87, 11, 45, 34, 87]\n"
     ]
    }
   ],
   "source": [
    "l = []\n",
    "n = int(input(\"Enter n = \"))\n",
    "for i in range(n):\n",
    "    x = int(input(\"Enter x = \"))\n",
    "    l.append(x)\n",
    "\n",
    "print(l)"
   ]
  },
  {
   "cell_type": "code",
   "execution_count": 17,
   "id": "d4c08764-d49d-4237-82e3-832728620385",
   "metadata": {},
   "outputs": [
    {
     "name": "stdout",
     "output_type": "stream",
     "text": [
      "Min value =  11\n",
      "Max value =  90\n",
      "Sum value =  554\n",
      "[11, 34, 34, 34, 45, 56, 76, 87, 87, 90]\n",
      "[90, 87, 87, 76, 56, 45, 34, 34, 34, 11]\n"
     ]
    }
   ],
   "source": [
    "print(\"Min value = \",min(l))\n",
    "print(\"Max value = \",max(l))\n",
    "print(\"Sum value = \",sum(l))\n",
    "l.sort()\n",
    "print(l)\n",
    "l.reverse()\n",
    "print(l)"
   ]
  },
  {
   "cell_type": "code",
   "execution_count": 18,
   "id": "0ca38585-b179-4152-addd-9c6145d44b03",
   "metadata": {},
   "outputs": [
    {
     "name": "stdin",
     "output_type": "stream",
     "text": [
      "Enter n =  5\n",
      "Enter x =  Ram\n",
      "Enter x =  Shyam\n",
      "Enter x =  Hari\n",
      "Enter x =  Sita\n",
      "Enter x =  Gita\n"
     ]
    }
   ],
   "source": [
    "l = []\n",
    "n = int(input(\"Enter n = \"))\n",
    "for i in range(n):\n",
    "    x = input(\"Enter x = \")\n",
    "    l.append(x)"
   ]
  },
  {
   "cell_type": "code",
   "execution_count": 19,
   "id": "d0948ed0-6e5c-41ff-9e93-04bedc08701a",
   "metadata": {},
   "outputs": [
    {
     "name": "stdout",
     "output_type": "stream",
     "text": [
      "['Ram', 'Shyam', 'Hari', 'Sita', 'Gita']\n"
     ]
    }
   ],
   "source": [
    "print(l)"
   ]
  },
  {
   "cell_type": "code",
   "execution_count": 20,
   "id": "897e8aef-3e20-4c92-8b2a-9c7bf4f9a155",
   "metadata": {},
   "outputs": [
    {
     "name": "stdout",
     "output_type": "stream",
     "text": [
      "['Gita', 'Hari', 'Ram', 'Shyam', 'Sita']\n"
     ]
    }
   ],
   "source": [
    "l.sort()\n",
    "print(l)"
   ]
  },
  {
   "cell_type": "code",
   "execution_count": 21,
   "id": "a46964d3-a52e-4a49-b302-1479375e314e",
   "metadata": {},
   "outputs": [
    {
     "data": {
      "text/plain": [
       "['Gita', 'Harry', 'Hari', 'Ram', 'Shyam', 'Sita']"
      ]
     },
     "execution_count": 21,
     "metadata": {},
     "output_type": "execute_result"
    }
   ],
   "source": [
    "# insert()\n",
    "a = ['Gita', 'Hari', 'Ram', 'Shyam', 'Sita']\n",
    "a.insert(1,\"Harry\")\n",
    "a"
   ]
  },
  {
   "cell_type": "code",
   "execution_count": 22,
   "id": "e4b675af-37a9-40a2-83ca-c45c54e8eda1",
   "metadata": {},
   "outputs": [
    {
     "name": "stdout",
     "output_type": "stream",
     "text": [
      "['Gita', 'Hari', 'Ram', 'Shyam', 'Sita', 1, 2, 3, 4, 5]\n"
     ]
    }
   ],
   "source": [
    "a = ['Gita', 'Hari', 'Ram', 'Shyam', 'Sita']\n",
    "b = [1,2,3,4,5]\n",
    "a.extend(b)\n",
    "print(a)"
   ]
  },
  {
   "cell_type": "code",
   "execution_count": 24,
   "id": "8bc20211-4d6c-480f-801a-c710e0c91cc1",
   "metadata": {},
   "outputs": [
    {
     "data": {
      "text/plain": [
       "['Nita', 'Harry', 'Hari', 'Ram', 'Shyam', 'Sita']"
      ]
     },
     "execution_count": 24,
     "metadata": {},
     "output_type": "execute_result"
    }
   ],
   "source": [
    "# update\n",
    "a = ['Gita', 'Harry', 'Hari', 'Ram', 'Shyam', 'Sita']\n",
    "a[0] = 'Nita'\n",
    "a"
   ]
  },
  {
   "cell_type": "code",
   "execution_count": 35,
   "id": "7ec81278-2dce-49b0-9b04-157d7d427b37",
   "metadata": {},
   "outputs": [
    {
     "data": {
      "text/plain": [
       "['Jack', 'John', 'Hari', 'Ram', 'Shyam', 'Sita']"
      ]
     },
     "execution_count": 35,
     "metadata": {},
     "output_type": "execute_result"
    }
   ],
   "source": [
    "a = ['Gita', 'Harry', 'Hari', 'Ram', 'Shyam', 'Sita']\n",
    "a[0:2] = ['Jack','John']\n",
    "a"
   ]
  },
  {
   "cell_type": "code",
   "execution_count": 36,
   "id": "382b4c9b-5bdd-4a5e-8b9f-f4bac17fd61a",
   "metadata": {},
   "outputs": [
    {
     "data": {
      "text/plain": [
       "['Gita', 'Steave', 'Bill', 'nabin', 'Harry', 'Hari', 'Ram', 'Shyam', 'Sita']"
      ]
     },
     "execution_count": 36,
     "metadata": {},
     "output_type": "execute_result"
    }
   ],
   "source": [
    "# insert multiple values inside certain index\n",
    "a = ['Gita', 'Harry', 'Hari', 'Ram', 'Shyam', 'Sita']\n",
    "a[1:1] = [\"Steave\",\"Bill\",\"nabin\"]\n",
    "a"
   ]
  },
  {
   "cell_type": "code",
   "execution_count": 38,
   "id": "b19f2463-b027-4073-b6c9-48886a46f7eb",
   "metadata": {},
   "outputs": [
    {
     "name": "stdout",
     "output_type": "stream",
     "text": [
      "['Harry', 'Hari', 'Ram', 'Shyam', 'Sita']\n"
     ]
    }
   ],
   "source": [
    "#for delete del remove() pop()\n",
    "a = ['Gita', 'Harry', 'Hari', 'Ram', 'Shyam', 'Sita']\n",
    "del a[0]\n",
    "print(a)"
   ]
  },
  {
   "cell_type": "code",
   "execution_count": 39,
   "id": "44974666-b8c0-4055-895f-849993f1a9ea",
   "metadata": {},
   "outputs": [
    {
     "data": {
      "text/plain": [
       "['Hari', 'Ram', 'Shyam', 'Sita']"
      ]
     },
     "execution_count": 39,
     "metadata": {},
     "output_type": "execute_result"
    }
   ],
   "source": [
    "a = ['Gita', 'Harry', 'Hari', 'Ram', 'Shyam', 'Sita']\n",
    "del a[0:2]\n",
    "a"
   ]
  },
  {
   "cell_type": "code",
   "execution_count": 40,
   "id": "69ea8b8c-77be-4545-88ea-6cb166e8c4e3",
   "metadata": {},
   "outputs": [
    {
     "data": {
      "text/plain": [
       "['Harry', 'Hari', 'Ram', 'Shyam', 'Sita']"
      ]
     },
     "execution_count": 40,
     "metadata": {},
     "output_type": "execute_result"
    }
   ],
   "source": [
    "a = ['Gita', 'Harry', 'Hari', 'Ram', 'Shyam', 'Sita']\n",
    "a.remove('Gita')\n",
    "a"
   ]
  },
  {
   "cell_type": "code",
   "execution_count": 41,
   "id": "010185e9-7eaa-4891-b693-728e47f09111",
   "metadata": {},
   "outputs": [
    {
     "data": {
      "text/plain": [
       "['Gita', 'Harry', 'Hari', 'Ram', 'Shyam']"
      ]
     },
     "execution_count": 41,
     "metadata": {},
     "output_type": "execute_result"
    }
   ],
   "source": [
    "a = ['Gita', 'Harry', 'Hari', 'Ram', 'Shyam', 'Sita']\n",
    "a.pop()\n",
    "a"
   ]
  },
  {
   "cell_type": "code",
   "execution_count": 43,
   "id": "3eb7ab32-fa1e-4a86-9403-919cda2d96e2",
   "metadata": {},
   "outputs": [
    {
     "name": "stdout",
     "output_type": "stream",
     "text": [
      "['Gita', 'Hari', 'Ram', 'Shyam', 'Sita']\n",
      "Harry\n"
     ]
    }
   ],
   "source": [
    "a = ['Gita', 'Harry', 'Hari', 'Ram', 'Shyam', 'Sita']\n",
    "b = a.pop(1)\n",
    "print(a)\n",
    "print(b)"
   ]
  },
  {
   "cell_type": "code",
   "execution_count": 44,
   "id": "4def1641-7fa6-49e2-a752-727eec483553",
   "metadata": {},
   "outputs": [
    {
     "name": "stdout",
     "output_type": "stream",
     "text": [
      "Gita\n",
      "Harry\n",
      "Hari\n",
      "Ram\n",
      "Shyam\n",
      "Sita\n"
     ]
    }
   ],
   "source": [
    "a = ['Gita', 'Harry', 'Hari', 'Ram', 'Shyam', 'Sita']\n",
    "for i in a:\n",
    "    print(i)"
   ]
  },
  {
   "cell_type": "code",
   "execution_count": 45,
   "id": "ae154df3-d712-4024-b727-1bf4389c8f6d",
   "metadata": {},
   "outputs": [
    {
     "data": {
      "text/plain": [
       "6"
      ]
     },
     "execution_count": 45,
     "metadata": {},
     "output_type": "execute_result"
    }
   ],
   "source": [
    "a = ['Gita', 'Harry', 'Hari', 'Ram', 'Shyam', 'Sita']\n",
    "l = len(a)\n",
    "l"
   ]
  },
  {
   "cell_type": "code",
   "execution_count": 46,
   "id": "15d3de2f-2417-44b5-bea2-6eac25430aad",
   "metadata": {},
   "outputs": [
    {
     "name": "stdout",
     "output_type": "stream",
     "text": [
      "Gita\n",
      "Harry\n",
      "Hari\n",
      "Ram\n",
      "Shyam\n",
      "Sita\n"
     ]
    }
   ],
   "source": [
    "i = 0\n",
    "a = ['Gita', 'Harry', 'Hari', 'Ram', 'Shyam', 'Sita']\n",
    "l = len(a)\n",
    "while i<l:\n",
    "    print(a[i])\n",
    "    i = i+1"
   ]
  },
  {
   "cell_type": "code",
   "execution_count": 50,
   "id": "fe99c252-554c-4b68-9f9e-8dee87b0778b",
   "metadata": {},
   "outputs": [
    {
     "name": "stdout",
     "output_type": "stream",
     "text": [
      "['Gita', 'Harry', 'Hari', 'Shyam', 'Sita']\n"
     ]
    }
   ],
   "source": [
    "#removing multiple values\n",
    "a = ['Gita', 'Harry', 'Hari', 'Ram', 'Shyam', 'Sita',\"Ram\"]\n",
    "c = a.count(\"Ram\")\n",
    "for i in range(c):\n",
    "    a.remove(\"Ram\")\n",
    "print(a)"
   ]
  },
  {
   "cell_type": "code",
   "execution_count": 52,
   "id": "5283cb4e-9c77-4926-9ff0-6762df522955",
   "metadata": {},
   "outputs": [
    {
     "name": "stdout",
     "output_type": "stream",
     "text": [
      "Yes 2\n"
     ]
    }
   ],
   "source": [
    "a = ['Gita', 'Harry', 'Hari', 'Ram', 'Shyam', 'Sita',\"Ram\"]\n",
    "if \"Ram\" in a:\n",
    "    print(\"Yes\",a.count(\"Ram\"))\n",
    "else:\n",
    "    print(\"No\")"
   ]
  },
  {
   "cell_type": "code",
   "execution_count": 53,
   "id": "4c0f64c2-5054-4c7e-ae7d-2c7f5042c242",
   "metadata": {},
   "outputs": [
    {
     "data": {
      "text/plain": [
       "3"
      ]
     },
     "execution_count": 53,
     "metadata": {},
     "output_type": "execute_result"
    }
   ],
   "source": [
    "a = ['Gita', 'Harry', 'Hari', 'Ram', 'Shyam', 'Sita',\"Ram\"]\n",
    "a.index(\"Ram\")"
   ]
  },
  {
   "cell_type": "code",
   "execution_count": 1,
   "id": "40e6ea6f-37a7-494a-9571-9b6ff06646fc",
   "metadata": {},
   "outputs": [
    {
     "name": "stdout",
     "output_type": "stream",
     "text": [
      "3\n",
      "6\n"
     ]
    }
   ],
   "source": [
    "a = ['Gita', 'Harry', 'Hari', 'Ram', 'Shyam', 'Sita',\"Ram\"]\n",
    "l = len(a)\n",
    "for i in range(l):\n",
    "    if a[i] == 'Ram':\n",
    "        print(i)"
   ]
  },
  {
   "cell_type": "code",
   "execution_count": 59,
   "id": "d89335c5-2ec9-41e9-aa0b-9adf006d4a3c",
   "metadata": {},
   "outputs": [
    {
     "name": "stdin",
     "output_type": "stream",
     "text": [
      "Enter Name =  RAM\n"
     ]
    },
    {
     "name": "stdout",
     "output_type": "stream",
     "text": [
      "3\n",
      "6\n"
     ]
    }
   ],
   "source": [
    "a = ['Gita', 'Harry', 'Hari', 'Ram', 'Shyam', 'Sita',\"ram\"]\n",
    "name = input(\"Enter Name = \")\n",
    "l = len(a)\n",
    "for i in range(l):\n",
    "    if a[i].lower() == name.lower():\n",
    "        print(i)"
   ]
  },
  {
   "cell_type": "code",
   "execution_count": null,
   "id": "75bda71e-58c6-4f6a-8216-57a62332da76",
   "metadata": {},
   "outputs": [],
   "source": [
    "# nested list\n",
    "a = [[1,2,3],\n",
    "    [4,5,6],\n",
    "    [7,8,9]]"
   ]
  },
  {
   "cell_type": "code",
   "execution_count": 5,
   "id": "60772dc0-4836-4daf-9d8f-64c794b08613",
   "metadata": {},
   "outputs": [
    {
     "name": "stdout",
     "output_type": "stream",
     "text": [
      "[['Ram', 34, 'Kathmandu'], ['Shyam', 67, 'Lalitpur'], ['Hari', 56, 'Lalitpur']]\n",
      "3\n"
     ]
    }
   ],
   "source": [
    "info = [['Ram',34,\"Kathmandu\"],\n",
    "       ['Shyam',67,\"Lalitpur\"],\n",
    "       ['Hari',56,\"Lalitpur\"]]\n",
    "print(info)\n",
    "print(len(info))"
   ]
  },
  {
   "cell_type": "code",
   "execution_count": 3,
   "id": "bce2d99c-19da-4fe1-bfe3-8a37fbc9fe70",
   "metadata": {},
   "outputs": [
    {
     "data": {
      "text/plain": [
       "['Ram', 34, 'Kathmandu']"
      ]
     },
     "execution_count": 3,
     "metadata": {},
     "output_type": "execute_result"
    }
   ],
   "source": [
    "info[0]"
   ]
  },
  {
   "cell_type": "code",
   "execution_count": 9,
   "id": "5888f144-eb4c-46a3-a79a-3a6e50211576",
   "metadata": {},
   "outputs": [
    {
     "data": {
      "text/plain": [
       "'Ram'"
      ]
     },
     "execution_count": 9,
     "metadata": {},
     "output_type": "execute_result"
    }
   ],
   "source": [
    "info[0][0]"
   ]
  },
  {
   "cell_type": "code",
   "execution_count": 10,
   "id": "d4f7f416-362b-4eb7-948a-edc5a2018f96",
   "metadata": {},
   "outputs": [
    {
     "name": "stdin",
     "output_type": "stream",
     "text": [
      "Enter n =  2\n",
      "Enter name =  Ram\n",
      "Enter age =  34\n",
      "Enter address =  Kathmandu\n",
      "Enter name =  Shyam\n",
      "Enter age =  89\n",
      "Enter address =  Lalitpur\n"
     ]
    },
    {
     "name": "stdout",
     "output_type": "stream",
     "text": [
      "[['Ram', 34, 'Kathmandu'], ['Shyam', 89, 'Lalitpur']]\n"
     ]
    }
   ],
   "source": [
    "info = []\n",
    "n = int(input(\"Enter n = \"))\n",
    "for i in range(n):\n",
    "    name = input(\"Enter name = \")\n",
    "    age = int(input(\"Enter age = \"))\n",
    "    add = input(\"Enter address = \")\n",
    "    x = [name,age,add]\n",
    "    info.append(x)\n",
    "print(info)"
   ]
  },
  {
   "cell_type": "code",
   "execution_count": 11,
   "id": "2126688c-dfe2-41ed-8671-ee0b6b3d94fe",
   "metadata": {},
   "outputs": [],
   "source": [
    "info.append(['Hari',34,'Bhaktapur'])"
   ]
  },
  {
   "cell_type": "code",
   "execution_count": 12,
   "id": "592d76cb-db58-4b48-be20-bdc627c3ed39",
   "metadata": {},
   "outputs": [
    {
     "data": {
      "text/plain": [
       "[['Ram', 34, 'Kathmandu'],\n",
       " ['Shyam', 89, 'Lalitpur'],\n",
       " ['Hari', 34, 'Bhaktapur']]"
      ]
     },
     "execution_count": 12,
     "metadata": {},
     "output_type": "execute_result"
    }
   ],
   "source": [
    "info"
   ]
  },
  {
   "cell_type": "code",
   "execution_count": 15,
   "id": "288cf85d-457c-4544-953d-544b1e1f6f29",
   "metadata": {},
   "outputs": [
    {
     "data": {
      "text/plain": [
       "[['Rama', 35, 'Dhading'], ['Shyam', 89, 'Lalitpur'], ['Hari', 34, 'Bhaktapur']]"
      ]
     },
     "execution_count": 15,
     "metadata": {},
     "output_type": "execute_result"
    }
   ],
   "source": [
    "# update\n",
    "info[0] = ['Rama',35,'Dhading']\n",
    "info"
   ]
  },
  {
   "cell_type": "code",
   "execution_count": 17,
   "id": "6c8622a9-58f0-4687-bfe5-0dc82de2a5e8",
   "metadata": {},
   "outputs": [
    {
     "data": {
      "text/plain": [
       "[['Ram', 35, 'Dhading'], ['Shyam', 89, 'Lalitpur'], ['Hari', 34, 'Bhaktapur']]"
      ]
     },
     "execution_count": 17,
     "metadata": {},
     "output_type": "execute_result"
    }
   ],
   "source": [
    "# update\n",
    "info[0][0] = 'Ram'\n",
    "info"
   ]
  },
  {
   "cell_type": "code",
   "execution_count": 19,
   "id": "063bf136-6d99-412d-b574-32fd520c2fb5",
   "metadata": {},
   "outputs": [
    {
     "data": {
      "text/plain": [
       "[['Shyam', 89, 'Lalitpur'], ['Hari', 34, 'Bhaktapur']]"
      ]
     },
     "execution_count": 19,
     "metadata": {},
     "output_type": "execute_result"
    }
   ],
   "source": [
    "# delete\n",
    "a = [['Rama', 35, 'Dhading'], ['Shyam', 89, 'Lalitpur'], ['Hari', 34, 'Bhaktapur']]\n",
    "del a[0]\n",
    "a"
   ]
  },
  {
   "cell_type": "code",
   "execution_count": 22,
   "id": "072c46aa-3761-42e3-83c8-1b9659ed83a8",
   "metadata": {},
   "outputs": [
    {
     "name": "stdout",
     "output_type": "stream",
     "text": [
      "[['Shyam', 89, 'Lalitpur'], ['Hari', 34, 'Bhaktapur']]\n",
      "['Rama', 35, 'Dhading']\n"
     ]
    }
   ],
   "source": [
    "a = [['Rama', 35, 'Dhading'], ['Shyam', 89, 'Lalitpur'], ['Hari', 34, 'Bhaktapur']]\n",
    "b = a.pop(0)\n",
    "print(a)\n",
    "print(b)"
   ]
  },
  {
   "cell_type": "code",
   "execution_count": 26,
   "id": "2199d93c-9231-4e96-b457-526123f29f77",
   "metadata": {},
   "outputs": [
    {
     "name": "stdin",
     "output_type": "stream",
     "text": [
      "Enter name =  Bhaktapur\n"
     ]
    },
    {
     "name": "stdout",
     "output_type": "stream",
     "text": [
      "['Hari', 34, 'Bhaktapur']\n"
     ]
    }
   ],
   "source": [
    "# Search in list inside list\n",
    "a = [['Ram', 35, 'Dhading'], ['Shyam', 89, 'Lalitpur'], ['Hari', 34, 'Bhaktapur']]\n",
    "name = input(\"Enter name = \")\n",
    "for i in a:\n",
    "    if name in i:\n",
    "        print(i)"
   ]
  },
  {
   "cell_type": "code",
   "execution_count": 30,
   "id": "36b01196-91c1-4936-964e-00af793e402f",
   "metadata": {},
   "outputs": [
    {
     "name": "stdin",
     "output_type": "stream",
     "text": [
      "Enter name =  Ram\n"
     ]
    },
    {
     "name": "stdout",
     "output_type": "stream",
     "text": [
      "0\n",
      "3\n"
     ]
    }
   ],
   "source": [
    "# Search in list inside list\n",
    "a = [['Ram', 35, 'Dhading'], ['Shyam', 89, 'Lalitpur'], ['Hari', 34, 'Bhaktapur'],['Ram', 35, 'Dhading']]\n",
    "name = input(\"Enter name = \")\n",
    "l = len(a)\n",
    "for i in range(l):\n",
    "    if name in a[i]:\n",
    "        print(i)"
   ]
  },
  {
   "cell_type": "code",
   "execution_count": 31,
   "id": "9d9710a7-7c4f-450e-be7f-58d38ea68107",
   "metadata": {},
   "outputs": [],
   "source": [
    "# r -> ?\n",
    "# c -> ?\n",
    "# x => ?\n",
    "a = [[1,2,3],\n",
    "    [4,5,6],\n",
    "    [7,8,9]]"
   ]
  },
  {
   "cell_type": "code",
   "execution_count": 33,
   "id": "e51a0b62-68ab-44f3-82ce-fdf25fc41188",
   "metadata": {},
   "outputs": [
    {
     "name": "stdin",
     "output_type": "stream",
     "text": [
      "Enter r =  2\n",
      "Enter c =  3\n",
      "Enter x =  Ram\n",
      "Enter x =  34\n",
      "Enter x =  Kathmandu\n",
      "Enter x =  Shyam\n",
      "Enter x =  45\n",
      "Enter x =  Bhaktapur\n"
     ]
    },
    {
     "name": "stdout",
     "output_type": "stream",
     "text": [
      "[['Ram', '34', 'Kathmandu'], ['Shyam', '45', 'Bhaktapur']]\n"
     ]
    }
   ],
   "source": [
    "m = []\n",
    "r = int(input(\"Enter r = \"))\n",
    "c = int(input(\"Enter c = \"))\n",
    "\n",
    "for i in range(r):\n",
    "    y = []\n",
    "    for j in range(c):\n",
    "        x =input(\"Enter x = \")\n",
    "        y.append(x)\n",
    "    m.append(y)\n",
    "\n",
    "print(m)"
   ]
  },
  {
   "cell_type": "code",
   "execution_count": null,
   "id": "566ee59a-d580-4284-b9fb-411471b20ecf",
   "metadata": {},
   "outputs": [],
   "source": []
  }
 ],
 "metadata": {
  "kernelspec": {
   "display_name": "Python 3 (ipykernel)",
   "language": "python",
   "name": "python3"
  },
  "language_info": {
   "codemirror_mode": {
    "name": "ipython",
    "version": 3
   },
   "file_extension": ".py",
   "mimetype": "text/x-python",
   "name": "python",
   "nbconvert_exporter": "python",
   "pygments_lexer": "ipython3",
   "version": "3.11.7"
  }
 },
 "nbformat": 4,
 "nbformat_minor": 5
}
