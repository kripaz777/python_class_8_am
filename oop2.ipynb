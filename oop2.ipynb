{
 "cells": [
  {
   "cell_type": "code",
   "execution_count": 1,
   "id": "ec968025-0e54-45e3-9569-b0ee1bb727c3",
   "metadata": {},
   "outputs": [],
   "source": [
    "# public, protected, private"
   ]
  },
  {
   "cell_type": "code",
   "execution_count": 3,
   "id": "ade94c88-354d-4bf2-935b-b6fef78d9873",
   "metadata": {},
   "outputs": [
    {
     "name": "stdout",
     "output_type": "stream",
     "text": [
      "Ram\n",
      "34\n",
      "Kathmandu\n"
     ]
    }
   ],
   "source": [
    "#public member\n",
    "class Info:\n",
    "    def __init__(self):\n",
    "        self.name = \"Ram\"\n",
    "        self.age = 34\n",
    "        self.add = \"Kathmandu\"\n",
    "\n",
    "obj = Info()\n",
    "print(obj.name)\n",
    "print(obj.age)\n",
    "print(obj.add)"
   ]
  },
  {
   "cell_type": "code",
   "execution_count": 4,
   "id": "e6ca9c14-e2e3-4194-b642-72d68a8672d3",
   "metadata": {},
   "outputs": [
    {
     "name": "stdout",
     "output_type": "stream",
     "text": [
      "Ram\n",
      "34\n",
      "Kathmandu\n"
     ]
    }
   ],
   "source": [
    "#protected member\n",
    "class Info:\n",
    "    def __init__(self):\n",
    "        self._name = \"Ram\"\n",
    "        self._age = 34\n",
    "        self._add = \"Kathmandu\"\n",
    "\n",
    "obj = Info()\n",
    "print(obj._name)\n",
    "print(obj._age)\n",
    "print(obj._add)"
   ]
  },
  {
   "cell_type": "code",
   "execution_count": 6,
   "id": "d0c789fa-cbe2-46c0-ad34-dc0040e5ef1b",
   "metadata": {},
   "outputs": [],
   "source": [
    "# private members\n",
    "class Info:\n",
    "    def __init__(self):\n",
    "        self.__name = \"Ram\"\n",
    "        self.__age = 34\n",
    "        self.__add = \"Kathmandu\"\n",
    "\n",
    "obj = Info()\n",
    "print(obj.__name)\n",
    "print(obj.__age)\n",
    "print(obj.__add)"
   ]
  },
  {
   "cell_type": "code",
   "execution_count": 8,
   "id": "35811044-ee70-44a0-bc5e-23c24021cc35",
   "metadata": {},
   "outputs": [
    {
     "name": "stdout",
     "output_type": "stream",
     "text": [
      "Hello World I am Ram. I am 34\n",
      "Hello World I am Ram. I am from Kathmandu. I am 34\n"
     ]
    }
   ],
   "source": [
    "class Data:\n",
    "    def __init__(self):\n",
    "        self.name = \"Ram\"          #public\n",
    "        self._age = 34             #protected\n",
    "        self.__add = \"Kathmandu\"   #private\n",
    "        \n",
    "    def data(self):\n",
    "        print(f\"Hello World I am {self.name}. I am from {self.__add}. I am {self._age}\")\n",
    "        \n",
    "class Info(Data):\n",
    "    def info(self):\n",
    "        print(f\"Hello World I am {self.name}. I am {self._age}\")\n",
    "\n",
    "obj = Info()\n",
    "obj.info()\n",
    "obj.data()\n",
    "print(obj.name)"
   ]
  },
  {
   "cell_type": "code",
   "execution_count": 9,
   "id": "0889ec2b-abf0-4cce-9370-2907ce7c930e",
   "metadata": {},
   "outputs": [
    {
     "name": "stdout",
     "output_type": "stream",
     "text": [
      "Hello World I am Ram. I am Kathmandu. I am 34\n",
      "Hello World I am Ram. I am from Kathmandu. I am 34\n",
      "Ram\n"
     ]
    }
   ],
   "source": [
    "class Data:\n",
    "    def __init__(self):\n",
    "        self.name = \"Ram\"          #public\n",
    "        self._age = 34             #protected\n",
    "        self.__add = \"Kathmandu\"   #private\n",
    "        \n",
    "    def my_add(self):\n",
    "        return self.__add\n",
    "        \n",
    "    def data(self):\n",
    "        print(f\"Hello World I am {self.name}. I am from {self.__add}. I am {self._age}\")\n",
    "        \n",
    "class Info(Data):\n",
    "    def info(self):\n",
    "        print(f\"Hello World I am {self.name}. I am {super().my_add()}. I am {self._age}\")\n",
    "        #super().my_add()\n",
    "\n",
    "obj = Info()\n",
    "obj.info()\n",
    "obj.data()\n",
    "print(obj.name)"
   ]
  },
  {
   "cell_type": "code",
   "execution_count": 11,
   "id": "49dded62-993d-47fd-856b-7cce00963e41",
   "metadata": {},
   "outputs": [
    {
     "name": "stdout",
     "output_type": "stream",
     "text": [
      "Parrot can fly\n",
      "Penguin can't fly\n",
      "Parrot can't swim\n",
      "Penguin can swim\n"
     ]
    }
   ],
   "source": [
    "class Parrot:\n",
    "    def fly(self):\n",
    "        print(\"Parrot can fly\")\n",
    "    def swim(self):\n",
    "        print(\"Parrot can't swim\")\n",
    "        \n",
    "class Penguin:\n",
    "    def fly(self):\n",
    "        print(\"Penguin can't fly\")\n",
    "    def swim(self):\n",
    "        print(\"Penguin can swim\")\n",
    "        \n",
    "# common interface\n",
    "def flying_test(bird):\n",
    "    bird.fly()\n",
    "    \n",
    "def swim_test(bird):\n",
    "    bird.swim()\n",
    "    \n",
    "#instantiate objects\n",
    "\n",
    "blu = Parrot()\n",
    "peggy = Penguin()\n",
    "# passing the object\n",
    "flying_test(blu)\n",
    "flying_test(peggy)\n",
    "\n",
    "swim_test(blu)\n",
    "swim_test(peggy)"
   ]
  },
  {
   "cell_type": "code",
   "execution_count": 23,
   "id": "cdb812cd-c5dc-4a55-91c3-fd669ede17b7",
   "metadata": {},
   "outputs": [
    {
     "name": "stdout",
     "output_type": "stream",
     "text": [
      "Ram\n",
      "Ram\n",
      "Ram\n"
     ]
    }
   ],
   "source": [
    "# str method\n",
    "class Info:\n",
    "    def __init__(self):\n",
    "        self.name = \"Ram\"\n",
    "        self.age = 45\n",
    "        self.add = \"Kathmandu\"\n",
    "    def __str__(self):           #only returns string\n",
    "        return str(self.name)\n",
    "\n",
    "obj = Info()\n",
    "print(obj)\n",
    "print(str(obj))   #obj converted to string\n",
    "print(obj.__str__())"
   ]
  },
  {
   "cell_type": "code",
   "execution_count": 25,
   "id": "a78dd88c-68c9-472d-abd9-9dee99395d39",
   "metadata": {},
   "outputs": [
    {
     "name": "stdout",
     "output_type": "stream",
     "text": [
      "1,5\n"
     ]
    }
   ],
   "source": [
    "# operator overloading\n",
    "class Point:\n",
    "    def __init__(self, x = 0, y = 0):\n",
    "        self.x = x\n",
    "        self.y = y\n",
    "    \n",
    "    def __str__(self):\n",
    "        return f\"{self.x},{self.y}\"\n",
    "    \n",
    "    def __add__(self,other):\n",
    "        x = self.x + other.x\n",
    "        y = self.y + other.y\n",
    "        return Point(x,y)\n",
    "        \n",
    "p1 = Point(2,3)\n",
    "p2 = Point(-1,2)\n",
    "print(p1 + p2)"
   ]
  },
  {
   "cell_type": "code",
   "execution_count": 27,
   "id": "40297960-4ab0-4837-8d87-0cb6264c50fd",
   "metadata": {},
   "outputs": [
    {
     "name": "stdout",
     "output_type": "stream",
     "text": [
      "This is init method  1000\n",
      "This is init method  1500\n",
      "This is init method  2000\n",
      "This is add method  2500\n",
      "This is init method  2500\n",
      "This is add method  4500\n",
      "This is init method  4500\n",
      "This is str method  4500\n",
      "4500\n"
     ]
    }
   ],
   "source": [
    "# operator overloading\n",
    "class Point:\n",
    "    def __init__(self, x = 0):\n",
    "        self.x = x\n",
    "        print(\"This is init method \",self.x)\n",
    "    \n",
    "    def __str__(self):\n",
    "        print(\"This is str method \",self.x)\n",
    "        return f\"{self.x}\"\n",
    "    \n",
    "    def __add__(self,other):\n",
    "        x = self.x + other.x\n",
    "        print(\"This is add method \",x)\n",
    "        return Point(x)\n",
    "        \n",
    "p1 = Point(1000)\n",
    "p2 = Point(1500)\n",
    "p3 = Point(2000)\n",
    "print(p1 + p2 + p3)"
   ]
  },
  {
   "cell_type": "code",
   "execution_count": null,
   "id": "4accc8a9-9008-4b3b-8ccc-7ddd072e39bb",
   "metadata": {},
   "outputs": [],
   "source": []
  }
 ],
 "metadata": {
  "kernelspec": {
   "display_name": "Python 3 (ipykernel)",
   "language": "python",
   "name": "python3"
  },
  "language_info": {
   "codemirror_mode": {
    "name": "ipython",
    "version": 3
   },
   "file_extension": ".py",
   "mimetype": "text/x-python",
   "name": "python",
   "nbconvert_exporter": "python",
   "pygments_lexer": "ipython3",
   "version": "3.11.7"
  }
 },
 "nbformat": 4,
 "nbformat_minor": 5
}
