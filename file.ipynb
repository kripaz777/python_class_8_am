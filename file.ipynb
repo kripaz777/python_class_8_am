{
 "cells": [
  {
   "cell_type": "code",
   "execution_count": 1,
   "id": "704039bf-26a6-4030-9c49-e942cd97b6bc",
   "metadata": {},
   "outputs": [],
   "source": [
    "# file = open('<file_name>','mode')\n",
    "\n",
    "# with open('<file_name>','<mode>') as file:\n",
    "#     <operations>"
   ]
  },
  {
   "cell_type": "code",
   "execution_count": 3,
   "id": "b9057181-f547-4f1a-983d-b602426ed3b9",
   "metadata": {},
   "outputs": [],
   "source": [
    "# mode\n",
    "# r -> read\n",
    "# x -> create\n",
    "# w -> write\n",
    "# a -> append"
   ]
  },
  {
   "cell_type": "code",
   "execution_count": 4,
   "id": "8822b4fc-c950-4ccb-99e0-b646efe68109",
   "metadata": {},
   "outputs": [],
   "source": [
    "#create file\n",
    "file = open('data.txt','x')\n",
    "file.close()"
   ]
  },
  {
   "cell_type": "code",
   "execution_count": 5,
   "id": "152767d7-0856-4cb4-bc54-e998e8aa8217",
   "metadata": {},
   "outputs": [
    {
     "name": "stdout",
     "output_type": "stream",
     "text": [
      "1. Hello World\n",
      "2. Hello World\n",
      "3. Hello World\n",
      "4. Hello World\n",
      "5. Hello World\n"
     ]
    }
   ],
   "source": [
    "#read file\n",
    "file = open('data.txt','r')\n",
    "content = file.read()\n",
    "print(content)\n",
    "file.close()"
   ]
  },
  {
   "cell_type": "code",
   "execution_count": 9,
   "id": "219287e0-45b8-48a4-8af1-bcc094c3407d",
   "metadata": {},
   "outputs": [
    {
     "data": {
      "text/plain": [
       "['apple', 'ball', 'cat']"
      ]
     },
     "execution_count": 9,
     "metadata": {},
     "output_type": "execute_result"
    }
   ],
   "source": [
    "a = \"apple_ball_cat\"\n",
    "a.split(\"_\")"
   ]
  },
  {
   "cell_type": "code",
   "execution_count": 10,
   "id": "0a2d7b27-0ccf-4be2-a1f7-325b9012f3ad",
   "metadata": {},
   "outputs": [
    {
     "data": {
      "text/plain": [
       "'1. Hello World\\n2. Hello World\\n3. Hello World\\n4. Hello World\\n5. Hello World'"
      ]
     },
     "execution_count": 10,
     "metadata": {},
     "output_type": "execute_result"
    }
   ],
   "source": [
    "content"
   ]
  },
  {
   "cell_type": "code",
   "execution_count": 12,
   "id": "c189d673-a3b0-4a04-91cf-28d8f9493791",
   "metadata": {},
   "outputs": [
    {
     "data": {
      "text/plain": [
       "['1. Hello World',\n",
       " '2. Hello World',\n",
       " '3. Hello World',\n",
       " '4. Hello World',\n",
       " '5. Hello World']"
      ]
     },
     "execution_count": 12,
     "metadata": {},
     "output_type": "execute_result"
    }
   ],
   "source": [
    "lines = content.split('\\n')\n",
    "lines"
   ]
  },
  {
   "cell_type": "code",
   "execution_count": 13,
   "id": "774ce136-507e-4886-8784-adcd862bd709",
   "metadata": {},
   "outputs": [
    {
     "name": "stdin",
     "output_type": "stream",
     "text": [
      "Enter line no =  1\n"
     ]
    },
    {
     "data": {
      "text/plain": [
       "'1. Hello World'"
      ]
     },
     "execution_count": 13,
     "metadata": {},
     "output_type": "execute_result"
    }
   ],
   "source": [
    "line_no = int(input(\"Enter line no = \"))\n",
    "lines[line_no-1]"
   ]
  },
  {
   "cell_type": "code",
   "execution_count": 14,
   "id": "235ce92d-04a0-4044-9536-779b2cbb4ba6",
   "metadata": {},
   "outputs": [],
   "source": [
    "#write on file\n",
    "file = open('data1.txt','w')\n",
    "file.write('Hello World')\n",
    "file.close()"
   ]
  },
  {
   "cell_type": "code",
   "execution_count": 15,
   "id": "f39ed65f-bcd4-4b30-98a8-62ae1239328e",
   "metadata": {},
   "outputs": [
    {
     "name": "stdin",
     "output_type": "stream",
     "text": [
      "Enter n =  2\n",
      "Enter name =  Apple\n",
      "Enter price =  300\n",
      "Enter quantity =  2\n",
      "Enter name =  Banana\n",
      "Enter price =  100\n",
      "Enter quantity =  4\n"
     ]
    }
   ],
   "source": [
    "bill = \"\"\n",
    "n = int(input(\"Enter n = \"))\n",
    "for i in range(n):\n",
    "    name = input(\"Enter name = \")\n",
    "    price = int(input(\"Enter price = \"))\n",
    "    quantity = int(input(\"Enter quantity = \"))\n",
    "    total = price * quantity\n",
    "    bill = bill + f\"{name} {price} {quantity} {total}\\n\"\n",
    "    \n",
    "\n",
    "file = open('bill.txt','w')\n",
    "file.write(bill)\n",
    "file.close()"
   ]
  },
  {
   "cell_type": "code",
   "execution_count": 16,
   "id": "5441658e-1ce9-4f16-9a31-84aba7f4f7de",
   "metadata": {},
   "outputs": [
    {
     "name": "stdout",
     "output_type": "stream",
     "text": [
      "Apple 300 2 600\n",
      "Banana 100 4 400\n",
      "\n"
     ]
    }
   ],
   "source": [
    "file = open('bill.txt','r')\n",
    "content = file.read()\n",
    "print(content)\n",
    "file.close()"
   ]
  },
  {
   "cell_type": "code",
   "execution_count": 28,
   "id": "594a8dea-834a-4631-90af-c40775d1bd13",
   "metadata": {},
   "outputs": [
    {
     "data": {
      "text/plain": [
       "['Apple 300 2 600', 'Banana 100 4 400']"
      ]
     },
     "execution_count": 28,
     "metadata": {},
     "output_type": "execute_result"
    }
   ],
   "source": [
    "data = content.split('\\n')[:-1]\n",
    "data                 "
   ]
  },
  {
   "cell_type": "code",
   "execution_count": 35,
   "id": "e8138445-0e0e-4907-88d6-5dee0463e58e",
   "metadata": {},
   "outputs": [
    {
     "data": {
      "text/plain": [
       "[['Apple', 300, 2, 600], ['Banana', 100, 4, 400]]"
      ]
     },
     "execution_count": 35,
     "metadata": {},
     "output_type": "execute_result"
    }
   ],
   "source": [
    "list_bill =[] \n",
    "for i in data:\n",
    "    x = i.split()\n",
    "    x[1] = int(x[1])\n",
    "    x[2] = int(x[2])\n",
    "    x[3] = int(x[3])\n",
    "    list_bill.append(x)\n",
    "list_bill"
   ]
  },
  {
   "cell_type": "code",
   "execution_count": 37,
   "id": "4144fbe2-0126-4361-8026-1d652742b725",
   "metadata": {},
   "outputs": [],
   "source": [
    "del list_bill[1]"
   ]
  },
  {
   "cell_type": "code",
   "execution_count": 38,
   "id": "5866e603-189b-40da-ad1e-9e056fb92849",
   "metadata": {},
   "outputs": [
    {
     "data": {
      "text/plain": [
       "[['Apple', 300, 2, 600]]"
      ]
     },
     "execution_count": 38,
     "metadata": {},
     "output_type": "execute_result"
    }
   ],
   "source": [
    "list_bill"
   ]
  },
  {
   "cell_type": "code",
   "execution_count": 40,
   "id": "78f4eb2d-e695-4d59-9417-43f510a69fa1",
   "metadata": {},
   "outputs": [],
   "source": [
    "a = [['Ram',45,'Kathmandu'],\n",
    "     ['Shyam',56,'Bhaktapur']]"
   ]
  },
  {
   "cell_type": "code",
   "execution_count": 42,
   "id": "05a85dea-eee4-491d-8db3-f3df4139a26d",
   "metadata": {},
   "outputs": [],
   "source": [
    "#writing list into file\n",
    "import csv\n",
    "file = open('info.txt','w')\n",
    "x = csv.writer(file)\n",
    "x.writerows(a)\n",
    "file.close()"
   ]
  },
  {
   "cell_type": "code",
   "execution_count": 43,
   "id": "27a3d69c-565d-4e58-8ffe-90b73a3fc8b9",
   "metadata": {},
   "outputs": [],
   "source": [
    "#Append mode in file"
   ]
  },
  {
   "cell_type": "code",
   "execution_count": 49,
   "id": "8a615a07-22fb-4aa9-aeb7-470498312e8e",
   "metadata": {},
   "outputs": [
    {
     "name": "stdin",
     "output_type": "stream",
     "text": [
      "Enter n =  2\n",
      "Enter name =  Akash\n",
      "Enter age =  78\n",
      "Enter add =  Kathmandu\n",
      "Enter name =  Alish\n",
      "Enter age =  67\n",
      "Enter add =  Kathmandu\n"
     ]
    }
   ],
   "source": [
    "file = open('append_bill.txt','a')\n",
    "info = \"\"\n",
    "n = int(input(\"Enter n = \"))\n",
    "for i in range(n):\n",
    "    name = input(\"Enter name = \")\n",
    "    age = int(input(\"Enter age = \"))\n",
    "    add = input(\"Enter add = \")\n",
    "    info = info + f\"{name} {age} {add}\\n\"\n",
    "file.write(info)\n",
    "file.close()"
   ]
  },
  {
   "cell_type": "code",
   "execution_count": 46,
   "id": "3c0ff8f2-0b80-41e9-a0d2-2ec72d484c7d",
   "metadata": {},
   "outputs": [],
   "source": []
  },
  {
   "cell_type": "code",
   "execution_count": null,
   "id": "0ddf606e-83c5-42af-90cb-d7c6251a079c",
   "metadata": {},
   "outputs": [],
   "source": []
  }
 ],
 "metadata": {
  "kernelspec": {
   "display_name": "Python 3 (ipykernel)",
   "language": "python",
   "name": "python3"
  },
  "language_info": {
   "codemirror_mode": {
    "name": "ipython",
    "version": 3
   },
   "file_extension": ".py",
   "mimetype": "text/x-python",
   "name": "python",
   "nbconvert_exporter": "python",
   "pygments_lexer": "ipython3",
   "version": "3.11.7"
  }
 },
 "nbformat": 4,
 "nbformat_minor": 5
}
